{
 "cells": [
  {
   "cell_type": "code",
   "execution_count": 1,
   "metadata": {
    "ExecuteTime": {
     "end_time": "2019-04-02T04:30:06.507012Z",
     "start_time": "2019-04-02T04:30:03.176601Z"
    }
   },
   "outputs": [],
   "source": [
    "from fastai.vision import *\n",
    "from bs4 import BeautifulSoup\n",
    "import requests\n",
    "import re\n",
    "from urllib.request import urlopen\n",
    "import urllib.request\n",
    "import os\n",
    "import json\n",
    "import pandas as pd\n",
    "import csv\n",
    "import math"
   ]
  },
  {
   "cell_type": "code",
   "execution_count": 2,
   "metadata": {
    "ExecuteTime": {
     "end_time": "2019-04-02T04:30:06.801308Z",
     "start_time": "2019-04-02T04:30:06.509422Z"
    }
   },
   "outputs": [],
   "source": [
    "%reload_ext autoreload\n",
    "%autoreload 2\n",
    "%matplotlib inline\n",
    "\n",
    "import pandas as pd\n",
    "import numpy as np\n",
    "import torch\n",
    "from pathlib import Path\n",
    "from torch.utils.data import Dataset, DataLoader\n",
    "import torch.optim as optim\n",
    "import torch.nn as nn\n",
    "import torch.nn.functional as F\n",
    "from torchvision import models\n",
    "import random\n",
    "import cv2\n",
    "import matplotlib.pyplot as plt"
   ]
  },
  {
   "cell_type": "markdown",
   "metadata": {},
   "source": [
    "# get the url "
   ]
  },
  {
   "cell_type": "code",
   "execution_count": 600,
   "metadata": {
    "ExecuteTime": {
     "end_time": "2019-03-31T05:24:21.971921Z",
     "start_time": "2019-03-31T05:24:21.806208Z"
    }
   },
   "outputs": [],
   "source": [
    "# create a folder called \"Pictures\" at the current directory"
   ]
  },
  {
   "cell_type": "code",
   "execution_count": 651,
   "metadata": {
    "ExecuteTime": {
     "end_time": "2019-03-31T06:04:45.483367Z",
     "start_time": "2019-03-31T06:04:37.969730Z"
    }
   },
   "outputs": [
    {
     "name": "stdout",
     "output_type": "stream",
     "text": [
      "query image:tie\n",
      "there are total 100 images\n",
      "done\n"
     ]
    }
   ],
   "source": [
    "def get_soup(url,header):\n",
    "    return BeautifulSoup(urlopen(urllib.request.Request(url,headers=header)),'html.parser')\n",
    "\n",
    "query = input(\"query image:\")# you can change the query for the image  here\n",
    "image_type=\"ActiOn\"\n",
    "query= query.split()\n",
    "query='+'.join(query)\n",
    "url=\"https://www.google.co.in/search?q=\"+query+\"&source=lnms&tbm=isch\"\n",
    "\n",
    "DIR=\"Pictures\"\n",
    "\n",
    "header={'User-Agent':\"Mozilla/5.0 (Windows NT 6.1; WOW64) AppleWebKit/537.36 (KHTML, like Gecko) Chrome/43.0.2357.134 Safari/537.36\"\n",
    "}\n",
    "soup = get_soup(url,header)\n",
    "\n",
    "ActualImages=[]# contains the link for Large original images, type of  image\n",
    "for a in soup.find_all(\"div\",{\"class\":\"rg_meta\"}):\n",
    "    link , Type =json.loads(a.text)[\"ou\"]  ,json.loads(a.text)[\"ity\"]\n",
    "    ActualImages.append(link)\n",
    "\n",
    "print(\"there are total\", len(ActualImages),\"images\")\n",
    "\n",
    "\n",
    "file_name = query.replace(\"+\",\"_\")\n",
    "if not os.path.exists(DIR):\n",
    "            os.mkdir(DIR)\n",
    "\n",
    "# with open(DIR+'/'+file_name+'.csv', 'w') as writeFile:\n",
    "#     writer = csv.writer(writeFile, dialect='excel')\n",
    "#     writer.writerow(ActualImages)\n",
    "\n",
    "df = pd.DataFrame({'data':ActualImages})\n",
    "df.to_csv(DIR+'/'+file_name+'.csv', header=False)\n",
    "\n",
    "print(\"done\")"
   ]
  },
  {
   "cell_type": "markdown",
   "metadata": {},
   "source": [
    "# create folders and download images"
   ]
  },
  {
   "cell_type": "code",
   "execution_count": 6,
   "metadata": {
    "ExecuteTime": {
     "end_time": "2019-04-02T04:30:54.158922Z",
     "start_time": "2019-04-02T04:30:54.126424Z"
    }
   },
   "outputs": [],
   "source": [
    "PATH = Path(\"\")"
   ]
  },
  {
   "cell_type": "code",
   "execution_count": 7,
   "metadata": {
    "ExecuteTime": {
     "end_time": "2019-04-02T04:30:54.802165Z",
     "start_time": "2019-04-02T04:30:54.770027Z"
    }
   },
   "outputs": [],
   "source": [
    "# create folders\n",
    "def create_folder(obj):\n",
    "    folder = obj\n",
    "    file = obj+'.csv'\n",
    "    dest = PATH/folder\n",
    "    dest.mkdir(parents=True, exist_ok=True)"
   ]
  },
  {
   "cell_type": "code",
   "execution_count": 14,
   "metadata": {
    "ExecuteTime": {
     "end_time": "2019-04-02T04:31:47.724083Z",
     "start_time": "2019-04-02T04:31:47.691526Z"
    }
   },
   "outputs": [],
   "source": [
    "classes = ['car','dress','hairstyle','sneakers','tie']\n",
    "folders = ['car','dress','hairstyle','sneakers','tie']\n",
    "files = ['car.csv','dress.csv','hairstyle.csv','sneakers.csv','tie.csv']"
   ]
  },
  {
   "cell_type": "code",
   "execution_count": 608,
   "metadata": {
    "ExecuteTime": {
     "end_time": "2019-03-31T05:26:05.816879Z",
     "start_time": "2019-03-31T05:26:05.669224Z"
    }
   },
   "outputs": [],
   "source": [
    "for item in classes:\n",
    "    create_folder(item)"
   ]
  },
  {
   "cell_type": "markdown",
   "metadata": {},
   "source": [
    "# Move the csv to the corresponding folder"
   ]
  },
  {
   "cell_type": "markdown",
   "metadata": {},
   "source": [
    "#### in terminal (for each categrory)  \n",
    "#### (because i need each csv doesn't have the first column which is integers from 1 to n)\n",
    "(MSDS694) appledeMacBook-Pro-4:AorB Reagan$ cd Pictures/\n",
    "(MSDS694) appledeMacBook-Pro-4:Pictures Reagan$ chmod +x ../del_first_col.sh \n",
    "(MSDS694) appledeMacBook-Pro-4:Pictures Reagan$ ../del_first_col.sh"
   ]
  },
  {
   "cell_type": "markdown",
   "metadata": {
    "ExecuteTime": {
     "end_time": "2019-03-30T23:50:45.557167Z",
     "start_time": "2019-03-30T23:50:45.261116Z"
    }
   },
   "source": [
    "## Download pictures"
   ]
  },
  {
   "cell_type": "code",
   "execution_count": 609,
   "metadata": {
    "ExecuteTime": {
     "end_time": "2019-03-31T05:35:30.798350Z",
     "start_time": "2019-03-31T05:34:43.742284Z"
    }
   },
   "outputs": [
    {
     "name": "stdout",
     "output_type": "stream",
     "text": [
      "Error \"https://media.wired.com/photos/59bafdf204afdc5248726f5c/master/w_2400 No connection adapters were found for '\"https://media.wired.com/photos/59bafdf204afdc5248726f5c/master/w_2400'\n",
      "Error \"https://www.popsci.com/sites/popsci.com/files/styles/1000_1x_/public/images/2018/03/senna.jpg?itok=eYNPMGjA&fc=50 No connection adapters were found for '\"https://www.popsci.com/sites/popsci.com/files/styles/1000_1x_/public/images/2018/03/senna.jpg?itok=eYNPMGjA&fc=50'\n",
      "Error \"https://img.etimg.com/thumb/msid-61740239 No connection adapters were found for '\"https://img.etimg.com/thumb/msid-61740239'\n",
      "Error \"https://images.express.com/is/image/expressfashion/0094_07852622_0058?cache=on&wid=361&fmt=jpeg&qlt=75 No connection adapters were found for '\"https://images.express.com/is/image/expressfashion/0094_07852622_0058?cache=on&wid=361&fmt=jpeg&qlt=75'\n",
      "Error \"https://hips.hearstapps.com/hmg-prod.s3.amazonaws.com/images/suede-sneakers-1533135336.jpg?crop=1xw:1xh;center No connection adapters were found for '\"https://hips.hearstapps.com/hmg-prod.s3.amazonaws.com/images/suede-sneakers-1533135336.jpg?crop=1xw:1xh;center'\n",
      "Error \"https://images.complex.com/complex/images/c_scale No connection adapters were found for '\"https://images.complex.com/complex/images/c_scale'\n",
      "Error \"https://hips.hearstapps.com/hmg-prod.s3.amazonaws.com/images/ugly-sneakers-comp-1546897463.jpg?crop=1.00xw:1.00xh;0 No connection adapters were found for '\"https://hips.hearstapps.com/hmg-prod.s3.amazonaws.com/images/ugly-sneakers-comp-1546897463.jpg?crop=1.00xw:1.00xh;0'\n"
     ]
    }
   ],
   "source": [
    "for i in range(len(classes)):\n",
    "    path = Path('')\n",
    "    folder = folders[i]\n",
    "    file = files[i]\n",
    "    dest = path/folder\n",
    "    download_images(path/folder/file, dest, max_pics=20, max_workers=0)"
   ]
  },
  {
   "cell_type": "code",
   "execution_count": 313,
   "metadata": {
    "ExecuteTime": {
     "end_time": "2019-03-31T02:41:22.127752Z",
     "start_time": "2019-03-31T02:41:21.837152Z"
    }
   },
   "outputs": [],
   "source": [
    "# folder = 'car'\n",
    "# file = 'car.csv'\n",
    "# path = Path('')\n",
    "# dest = path/folder\n",
    "# dest.mkdir(parents=True, exist_ok=True)"
   ]
  },
  {
   "cell_type": "code",
   "execution_count": 610,
   "metadata": {
    "ExecuteTime": {
     "end_time": "2019-03-31T05:35:43.177006Z",
     "start_time": "2019-03-31T05:35:42.869951Z"
    }
   },
   "outputs": [
    {
     "data": {
      "text/plain": [
       "[PosixPath('.DS_Store'),\n",
       " PosixPath('.ipynb_checkpoints'),\n",
       " PosixPath('car'),\n",
       " PosixPath('dress'),\n",
       " PosixPath('hairstyle'),\n",
       " PosixPath('Mar30th.ipynb'),\n",
       " PosixPath('Pictures'),\n",
       " PosixPath('search_terms.py'),\n",
       " PosixPath('sneakers'),\n",
       " PosixPath('tie')]"
      ]
     },
     "execution_count": 610,
     "metadata": {},
     "output_type": "execute_result"
    }
   ],
   "source": [
    "path.ls()"
   ]
  },
  {
   "cell_type": "code",
   "execution_count": 585,
   "metadata": {
    "ExecuteTime": {
     "end_time": "2019-03-31T05:11:35.822802Z",
     "start_time": "2019-03-31T05:11:35.523885Z"
    }
   },
   "outputs": [],
   "source": [
    "# rename image filenames"
   ]
  },
  {
   "cell_type": "code",
   "execution_count": 611,
   "metadata": {
    "ExecuteTime": {
     "end_time": "2019-03-31T05:35:46.091357Z",
     "start_time": "2019-03-31T05:35:45.933953Z"
    }
   },
   "outputs": [],
   "source": [
    "def rename_image(obj):\n",
    "    for filename in os.listdir(PATH/obj): \n",
    "        path = PATH/obj\n",
    "        dst = os.path.join(path,obj + filename)\n",
    "        src = os.path.join(path,filename)\n",
    "\n",
    "        # rename() function will \n",
    "        # rename all the files \n",
    "        os.rename(src, dst) "
   ]
  },
  {
   "cell_type": "code",
   "execution_count": 612,
   "metadata": {
    "ExecuteTime": {
     "end_time": "2019-03-31T05:35:47.094977Z",
     "start_time": "2019-03-31T05:35:46.931443Z"
    }
   },
   "outputs": [],
   "source": [
    "for item in classes:\n",
    "    rename_image(item)"
   ]
  },
  {
   "cell_type": "markdown",
   "metadata": {},
   "source": [
    "# read image "
   ]
  },
  {
   "cell_type": "code",
   "execution_count": 27,
   "metadata": {
    "ExecuteTime": {
     "end_time": "2019-04-02T04:32:51.534467Z",
     "start_time": "2019-04-02T04:32:51.501711Z"
    }
   },
   "outputs": [],
   "source": [
    "def read_image(path):\n",
    "    im = cv2.imread(str(path))\n",
    "    return cv2.cvtColor(im, cv2.COLOR_BGR2RGB)"
   ]
  },
  {
   "cell_type": "code",
   "execution_count": 28,
   "metadata": {
    "ExecuteTime": {
     "end_time": "2019-04-02T04:32:54.930859Z",
     "start_time": "2019-04-02T04:32:54.900664Z"
    }
   },
   "outputs": [],
   "source": [
    "# try read one image "
   ]
  },
  {
   "cell_type": "code",
   "execution_count": 29,
   "metadata": {
    "ExecuteTime": {
     "end_time": "2019-04-02T04:32:55.686138Z",
     "start_time": "2019-04-02T04:32:55.297261Z"
    },
    "scrolled": true
   },
   "outputs": [
    {
     "data": {
      "text/plain": [
       "(516, 723, 3)"
      ]
     },
     "execution_count": 29,
     "metadata": {},
     "output_type": "execute_result"
    },
    {
     "data": {
      "image/png": "[encoded data removed]",
      "text/plain": [
       "<Figure size 432x288 with 1 Axes>"
      ]
     },
     "metadata": {
      "needs_background": "light"
     },
     "output_type": "display_data"
    }
   ],
   "source": [
    "path = PATH/\"car/car00000011.jpg\"\n",
    "im = read_image(path)\n",
    "plt.imshow(im)\n",
    "im.shape"
   ]
  },
  {
   "cell_type": "code",
   "execution_count": 616,
   "metadata": {
    "ExecuteTime": {
     "end_time": "2019-03-31T05:36:28.978269Z",
     "start_time": "2019-03-31T05:36:28.808243Z"
    },
    "scrolled": true
   },
   "outputs": [
    {
     "data": {
      "text/plain": [
       "(516, 723, 3)"
      ]
     },
     "execution_count": 616,
     "metadata": {},
     "output_type": "execute_result"
    }
   ],
   "source": [
    "im = cv2.imread(str(path))\n",
    "im.shape"
   ]
  },
  {
   "cell_type": "markdown",
   "metadata": {},
   "source": [
    "# Resize images"
   ]
  },
  {
   "cell_type": "code",
   "execution_count": 8,
   "metadata": {
    "ExecuteTime": {
     "end_time": "2019-04-02T04:31:17.627403Z",
     "start_time": "2019-04-02T04:31:17.586364Z"
    }
   },
   "outputs": [],
   "source": [
    "import math\n",
    "def random_crop(x, target_r, target_c):\n",
    "    \"\"\" Returns a random crop\"\"\"\n",
    "    r,c,*_ = x.shape\n",
    "    rand_r = random.uniform(0, 1)\n",
    "    rand_c = random.uniform(0, 1)\n",
    "    start_r = np.floor(rand_r*(r - target_r)).astype(int)\n",
    "    start_c = np.floor(rand_c*(c - target_c)).astype(int)\n",
    "    return crop(x, start_r, start_c, target_r, target_c)\n",
    "\n",
    "def rotate_cv(im, deg, mode=cv2.BORDER_REFLECT, interpolation=cv2.INTER_AREA):\n",
    "    \"\"\" Rotates an image by deg degrees\"\"\"\n",
    "    r,c,*_ = im.shape\n",
    "    M = cv2.getRotationMatrix2D((c/2,r/2),deg,1)\n",
    "    return cv2.warpAffine(im,M,(c,r), borderMode=mode, flags=cv2.WARP_FILL_OUTLIERS+interpolation)"
   ]
  },
  {
   "cell_type": "code",
   "execution_count": 9,
   "metadata": {
    "ExecuteTime": {
     "end_time": "2019-04-02T04:31:18.373633Z",
     "start_time": "2019-04-02T04:31:18.322696Z"
    }
   },
   "outputs": [],
   "source": [
    "# resize images\n",
    "def crop(im, r, c, target_r, target_c): return im[r:r+target_r, c:c+target_c]\n",
    "\n",
    "def center_crop(im, min_sz=None):\n",
    "    \"\"\" Returns a center crop of an image\"\"\"\n",
    "    r,c,*_ = im.shape\n",
    "    if min_sz is None: min_sz = min(r,c)\n",
    "    start_r = math.ceil((r-min_sz)/2)\n",
    "    start_c = math.ceil((c-min_sz)/2)\n",
    "    return crop(im, start_r, start_c, min_sz, min_sz)\n",
    "\n",
    "def resize_crop_image(path, sz=(303, 227)):\n",
    "    im = read_image(path)\n",
    "    im = center_crop(im)\n",
    "    return cv2.resize(im, sz)\n",
    "\n",
    "def resize_all_images(resize_path, org_path):\n",
    "#     files = [x for x in list(org_path.iterdir()) if x.suffix == \".jpg\"]\n",
    "    files = [x for x in list(org_path.iterdir()) if x.suffix != \".csv\"]\n",
    "    for f in files:\n",
    "        try:\n",
    "            f_name = f.parts[-1]    \n",
    "            new_path = resize_path/f_name\n",
    "\n",
    "            im = resize_crop_image(f)\n",
    "            cv2.imwrite(str(new_path), cv2.cvtColor(im, cv2.COLOR_RGB2BGR))\n",
    "        except:\n",
    "            pass"
   ]
  },
  {
   "cell_type": "markdown",
   "metadata": {},
   "source": [
    "## create folders for resized images "
   ]
  },
  {
   "cell_type": "code",
   "execution_count": 619,
   "metadata": {
    "ExecuteTime": {
     "end_time": "2019-03-31T05:36:41.618618Z",
     "start_time": "2019-03-31T05:36:41.459462Z"
    }
   },
   "outputs": [],
   "source": [
    "def create_resized_folder(obj):\n",
    "    folder = \"resized_\"+ obj\n",
    "    dest = PATH/folder\n",
    "    dest.mkdir(parents=True, exist_ok=True)"
   ]
  },
  {
   "cell_type": "code",
   "execution_count": 620,
   "metadata": {
    "ExecuteTime": {
     "end_time": "2019-03-31T05:36:42.345952Z",
     "start_time": "2019-03-31T05:36:42.189774Z"
    }
   },
   "outputs": [],
   "source": [
    "# empty folders\n",
    "for item in classes:\n",
    "    create_resized_folder(item)"
   ]
  },
  {
   "cell_type": "code",
   "execution_count": 621,
   "metadata": {
    "ExecuteTime": {
     "end_time": "2019-03-31T05:37:08.371857Z",
     "start_time": "2019-03-31T05:37:05.577805Z"
    }
   },
   "outputs": [],
   "source": [
    "# resize images from original folder to new folder\n",
    "# resize_all_images(PATH/\"train_303_227\", PATH/\"train\")\n",
    "resize_all_images(PATH/\"resized_car\", PATH/\"car\")\n",
    "resize_all_images(PATH/\"resized_dress\", PATH/\"dress\")\n",
    "resize_all_images(PATH/\"resized_hairstyle\", PATH/\"hairstyle\")\n",
    "resize_all_images(PATH/\"resized_sneakers\", PATH/\"sneakers\")\n",
    "resize_all_images(PATH/\"resized_tie\", PATH/\"tie\")"
   ]
  },
  {
   "cell_type": "markdown",
   "metadata": {},
   "source": [
    "# Create labels (y_train)"
   ]
  },
  {
   "cell_type": "code",
   "execution_count": 15,
   "metadata": {
    "ExecuteTime": {
     "end_time": "2019-04-02T04:31:50.283078Z",
     "start_time": "2019-04-02T04:31:50.230608Z"
    }
   },
   "outputs": [],
   "source": [
    "import os\n",
    "df_num = pd.DataFrame()\n",
    "for item in classes:\n",
    "    folder = \"resized_\"+item\n",
    "    temp = pd.DataFrame({'class': [item], 'number': [len(os.listdir(PATH/folder))]})\n",
    "    df_num = pd.concat([df_num, temp])\n",
    "# os.listdir(PATH/\"car\")"
   ]
  },
  {
   "cell_type": "code",
   "execution_count": 16,
   "metadata": {
    "ExecuteTime": {
     "end_time": "2019-04-02T04:31:51.346141Z",
     "start_time": "2019-04-02T04:31:51.284780Z"
    }
   },
   "outputs": [
    {
     "data": {
      "text/html": [
       "<div>\n",
       "<style scoped>\n",
       "    .dataframe tbody tr th:only-of-type {\n",
       "        vertical-align: middle;\n",
       "    }\n",
       "\n",
       "    .dataframe tbody tr th {\n",
       "        vertical-align: top;\n",
       "    }\n",
       "\n",
       "    .dataframe thead th {\n",
       "        text-align: right;\n",
       "    }\n",
       "</style>\n",
       "<table border=\"1\" class=\"dataframe\">\n",
       "  <thead>\n",
       "    <tr style=\"text-align: right;\">\n",
       "      <th></th>\n",
       "      <th>class</th>\n",
       "      <th>number</th>\n",
       "    </tr>\n",
       "  </thead>\n",
       "  <tbody>\n",
       "    <tr>\n",
       "      <th>0</th>\n",
       "      <td>car</td>\n",
       "      <td>17</td>\n",
       "    </tr>\n",
       "    <tr>\n",
       "      <th>0</th>\n",
       "      <td>dress</td>\n",
       "      <td>19</td>\n",
       "    </tr>\n",
       "    <tr>\n",
       "      <th>0</th>\n",
       "      <td>hairstyle</td>\n",
       "      <td>19</td>\n",
       "    </tr>\n",
       "    <tr>\n",
       "      <th>0</th>\n",
       "      <td>sneakers</td>\n",
       "      <td>17</td>\n",
       "    </tr>\n",
       "    <tr>\n",
       "      <th>0</th>\n",
       "      <td>tie</td>\n",
       "      <td>20</td>\n",
       "    </tr>\n",
       "  </tbody>\n",
       "</table>\n",
       "</div>"
      ],
      "text/plain": [
       "       class  number\n",
       "0        car      17\n",
       "0      dress      19\n",
       "0  hairstyle      19\n",
       "0   sneakers      17\n",
       "0        tie      20"
      ]
     },
     "execution_count": 16,
     "metadata": {},
     "output_type": "execute_result"
    }
   ],
   "source": [
    "df_num"
   ]
  },
  {
   "cell_type": "code",
   "execution_count": 624,
   "metadata": {
    "ExecuteTime": {
     "end_time": "2019-03-31T05:37:52.327190Z",
     "start_time": "2019-03-31T05:37:52.178852Z"
    }
   },
   "outputs": [
    {
     "data": {
      "text/plain": [
       "19"
      ]
     },
     "execution_count": 624,
     "metadata": {},
     "output_type": "execute_result"
    }
   ],
   "source": [
    "# for example\n",
    "df_num[df_num[\"class\"] == 'dress'].number[0]"
   ]
  },
  {
   "cell_type": "code",
   "execution_count": 18,
   "metadata": {
    "ExecuteTime": {
     "end_time": "2019-04-02T04:32:07.032780Z",
     "start_time": "2019-04-02T04:32:06.999825Z"
    }
   },
   "outputs": [],
   "source": [
    "car = [1,0,0,0,0]\n",
    "dress = [0,1,0,0,0]\n",
    "hairstyle = [0,0,1,0,0]\n",
    "sneakers = [0,0,0,1,0]\n",
    "tie = [0,0,0,0,1]"
   ]
  },
  {
   "cell_type": "code",
   "execution_count": 19,
   "metadata": {
    "ExecuteTime": {
     "end_time": "2019-04-02T04:32:07.517663Z",
     "start_time": "2019-04-02T04:32:07.464514Z"
    }
   },
   "outputs": [],
   "source": [
    "car = pd.DataFrame([car])\n",
    "car = car.reindex(car.index.repeat(df_num[df_num[\"class\"] == 'car'].number[0]))\n",
    "dress = pd.DataFrame([dress])\n",
    "dress = dress.reindex(dress.index.repeat(df_num[df_num[\"class\"] == 'dress'].number[0]))\n",
    "hairstyle = pd.DataFrame([hairstyle])\n",
    "hairstyle = hairstyle.reindex(hairstyle.index.repeat(df_num[df_num[\"class\"] == 'hairstyle'].number[0]))\n",
    "sneakers = pd.DataFrame([sneakers])\n",
    "sneakers = sneakers.reindex(sneakers.index.repeat(df_num[df_num[\"class\"] == 'sneakers'].number[0]))\n",
    "tie = pd.DataFrame([tie])\n",
    "tie = tie.reindex(tie.index.repeat(df_num[df_num[\"class\"] == 'tie'].number[0]))"
   ]
  },
  {
   "cell_type": "code",
   "execution_count": 20,
   "metadata": {
    "ExecuteTime": {
     "end_time": "2019-04-02T04:32:08.678490Z",
     "start_time": "2019-04-02T04:32:08.646078Z"
    }
   },
   "outputs": [],
   "source": [
    "labels_pd = car.append(dress).append(hairstyle).append(sneakers).append(tie)"
   ]
  },
  {
   "cell_type": "code",
   "execution_count": 21,
   "metadata": {
    "ExecuteTime": {
     "end_time": "2019-04-02T04:32:09.130172Z",
     "start_time": "2019-04-02T04:32:09.097352Z"
    }
   },
   "outputs": [],
   "source": [
    "labels = np.array(labels_pd)"
   ]
  },
  {
   "cell_type": "code",
   "execution_count": 22,
   "metadata": {
    "ExecuteTime": {
     "end_time": "2019-04-02T04:32:09.452168Z",
     "start_time": "2019-04-02T04:32:09.407194Z"
    }
   },
   "outputs": [
    {
     "name": "stdout",
     "output_type": "stream",
     "text": [
      "92\n"
     ]
    },
    {
     "data": {
      "text/plain": [
       "array([[1, 0, 0, 0, 0],\n",
       "       [1, 0, 0, 0, 0],\n",
       "       [1, 0, 0, 0, 0],\n",
       "       [1, 0, 0, 0, 0],\n",
       "       ...,\n",
       "       [0, 0, 0, 0, 1],\n",
       "       [0, 0, 0, 0, 1],\n",
       "       [0, 0, 0, 0, 1],\n",
       "       [0, 0, 0, 0, 1]])"
      ]
     },
     "execution_count": 22,
     "metadata": {},
     "output_type": "execute_result"
    }
   ],
   "source": [
    "print(len(labels))\n",
    "labels"
   ]
  },
  {
   "cell_type": "markdown",
   "metadata": {},
   "source": [
    "# modeling"
   ]
  },
  {
   "cell_type": "code",
   "execution_count": 10,
   "metadata": {
    "ExecuteTime": {
     "end_time": "2019-04-02T04:31:26.283674Z",
     "start_time": "2019-04-02T04:31:26.243412Z"
    }
   },
   "outputs": [],
   "source": [
    "def normalize(im):\n",
    "    \"\"\"Normalizes images with Imagenet stats.\"\"\"\n",
    "    imagenet_stats = np.array([[0.485, 0.456, 0.406], [0.229, 0.224, 0.225]])\n",
    "    return (im - imagenet_stats[0])/imagenet_stats[1]\n",
    "def apply_transforms(x, sz=(303, 227), zoom=1.05):\n",
    "    \"\"\" Applies a random crop, rotation\"\"\"\n",
    "    sz1 = int(zoom*sz[0])\n",
    "    sz2 = int(zoom*sz[1])\n",
    "    x = cv2.resize(x, (sz1, sz2))\n",
    "    x = rotate_cv(x, np.random.uniform(-10,10))\n",
    "    x = random_crop(x, sz[1], sz[0])\n",
    "    if np.random.rand() >= .5:\n",
    "                x = np.fliplr(x).copy()\n",
    "    return x"
   ]
  },
  {
   "cell_type": "code",
   "execution_count": 11,
   "metadata": {
    "ExecuteTime": {
     "end_time": "2019-04-02T04:31:26.561576Z",
     "start_time": "2019-04-02T04:31:26.504830Z"
    }
   },
   "outputs": [],
   "source": [
    "class imageDataset(Dataset):\n",
    "    def __init__(self, files_path, labels, transform=False):\n",
    "        self.num_files = len(labels)\n",
    "        self.files_path = files_path\n",
    "        self.labels = labels\n",
    "        self.transform = transform\n",
    "        \n",
    "    def __len__(self):\n",
    "        return self.num_files\n",
    "    \n",
    "    def __getitem__(self, index):\n",
    "#         row = self.labels.iloc[index,:]\n",
    "#         y = row[\"invasive\"]\n",
    "        y = self.labels[index]\n",
    "        file_name =os.listdir(self.files_path)[index]\n",
    "        path = self.files_path/str(file_name)\n",
    "        x = read_image(path)\n",
    "        if self.transform:\n",
    "            x = apply_transforms(x)\n",
    "        #else:\n",
    "        #    x = cv2.resize(x, (303, 227))\n",
    "        x = normalize(x)\n",
    "        x = np.rollaxis(x, 2)\n",
    "        return x, y"
   ]
  },
  {
   "cell_type": "code",
   "execution_count": 632,
   "metadata": {
    "ExecuteTime": {
     "end_time": "2019-03-31T05:38:59.348352Z",
     "start_time": "2019-03-31T05:38:59.202053Z"
    }
   },
   "outputs": [],
   "source": [
    "# l = os.listdir(PATH/\"resized_train\")\n",
    "# li=[x.split('.')[0] for x in l]"
   ]
  },
  {
   "cell_type": "markdown",
   "metadata": {},
   "source": [
    "## create a folder to put in all the images (in order)"
   ]
  },
  {
   "cell_type": "markdown",
   "metadata": {},
   "source": [
    "#### in terminal\n",
    "(MSDS694) appledeMacBook-Pro-4:AorB Reagan$ chmod +x five.sh\n",
    "(MSDS694) appledeMacBook-Pro-4:AorB Reagan$ ./five.sh"
   ]
  },
  {
   "cell_type": "markdown",
   "metadata": {},
   "source": [
    "## use imageDataset() "
   ]
  },
  {
   "cell_type": "code",
   "execution_count": 156,
   "metadata": {
    "ExecuteTime": {
     "end_time": "2019-04-02T05:57:22.838126Z",
     "start_time": "2019-04-02T05:57:22.805200Z"
    }
   },
   "outputs": [],
   "source": [
    "train_ds = imageDataset(PATH/\"five\", labels=labels, transform=True)"
   ]
  },
  {
   "cell_type": "code",
   "execution_count": 157,
   "metadata": {
    "ExecuteTime": {
     "end_time": "2019-04-02T05:57:23.047726Z",
     "start_time": "2019-04-02T05:57:23.015439Z"
    }
   },
   "outputs": [],
   "source": [
    "train_loader = DataLoader(train_ds, batch_size=64, shuffle=True)  # WHY batch_size = 64?\n"
   ]
  },
  {
   "cell_type": "code",
   "execution_count": 158,
   "metadata": {
    "ExecuteTime": {
     "end_time": "2019-04-02T05:57:23.229602Z",
     "start_time": "2019-04-02T05:57:23.197952Z"
    }
   },
   "outputs": [
    {
     "data": {
      "text/plain": [
       "<torch.utils.data.dataloader.DataLoader at 0x131971c18>"
      ]
     },
     "execution_count": 158,
     "metadata": {},
     "output_type": "execute_result"
    }
   ],
   "source": [
    "train_loader"
   ]
  },
  {
   "cell_type": "code",
   "execution_count": 159,
   "metadata": {
    "ExecuteTime": {
     "end_time": "2019-04-02T05:57:23.941517Z",
     "start_time": "2019-04-02T05:57:23.388454Z"
    }
   },
   "outputs": [],
   "source": [
    "x, y = next(iter(train_loader))  # WHY this step?"
   ]
  },
  {
   "cell_type": "markdown",
   "metadata": {},
   "source": [
    "## the model"
   ]
  },
  {
   "cell_type": "code",
   "execution_count": 160,
   "metadata": {
    "ExecuteTime": {
     "end_time": "2019-04-02T05:57:24.776128Z",
     "start_time": "2019-04-02T05:57:24.104521Z"
    }
   },
   "outputs": [],
   "source": [
    "resnet = models.resnet34(pretrained=True)"
   ]
  },
  {
   "cell_type": "code",
   "execution_count": 161,
   "metadata": {
    "ExecuteTime": {
     "end_time": "2019-04-02T05:57:24.831260Z",
     "start_time": "2019-04-02T05:57:24.778648Z"
    }
   },
   "outputs": [
    {
     "name": "stdout",
     "output_type": "stream",
     "text": [
      "10\n"
     ]
    },
    {
     "data": {
      "text/plain": [
       "[AdaptiveAvgPool2d(output_size=(1, 1)),\n",
       " Linear(in_features=512, out_features=1000, bias=True)]"
      ]
     },
     "execution_count": 161,
     "metadata": {},
     "output_type": "execute_result"
    }
   ],
   "source": [
    "layers = list(resnet.children())\n",
    "print(len(layers))\n",
    "layers[-2:]"
   ]
  },
  {
   "cell_type": "code",
   "execution_count": 162,
   "metadata": {
    "ExecuteTime": {
     "end_time": "2019-04-02T05:57:24.872408Z",
     "start_time": "2019-04-02T05:57:24.835489Z"
    }
   },
   "outputs": [],
   "source": [
    "class Net(nn.Module):\n",
    "    def __init__(self):\n",
    "        super(Net, self).__init__()\n",
    "        resnet = models.resnet34(pretrained=True)\n",
    "        # freezing parameters\n",
    "        for param in resnet.parameters():\n",
    "            param.requires_grad = False\n",
    "        # convolutional layers of resnet34\n",
    "        layers = list(resnet.children())[:8]\n",
    "        self.top_model = nn.Sequential(*layers)\n",
    "        self.bn1 = nn.BatchNorm1d(512)\n",
    "        self.bn2 = nn.BatchNorm1d(512)\n",
    "        self.fc1 = nn.Linear(512, 512)\n",
    "        self.fc2 = nn.Linear(512, 5)\n",
    "    \n",
    "    def forward(self, x):\n",
    "        x = F.relu(self.top_model(x))\n",
    "        x = nn.AdaptiveAvgPool2d((1,1))(x)\n",
    "        x = x.view(x.shape[0], -1) # flattening \n",
    "        #x = nn.Dropout(0.2)(x)\n",
    "        x = self.bn1(x)\n",
    "        x = F.relu(self.fc1(x))\n",
    "        #x = nn.Dropout(0.2)(x)\n",
    "        x = self.bn2(x)\n",
    "        x = self.fc2(x)\n",
    "        return x"
   ]
  },
  {
   "cell_type": "code",
   "execution_count": 163,
   "metadata": {
    "ExecuteTime": {
     "end_time": "2019-04-02T05:57:25.947650Z",
     "start_time": "2019-04-02T05:57:25.369871Z"
    }
   },
   "outputs": [],
   "source": [
    "model = Net()"
   ]
  },
  {
   "cell_type": "code",
   "execution_count": 164,
   "metadata": {
    "ExecuteTime": {
     "end_time": "2019-04-02T05:57:26.035975Z",
     "start_time": "2019-04-02T05:57:25.949614Z"
    }
   },
   "outputs": [
    {
     "data": {
      "text/plain": [
       "torch.Size([64, 5])"
      ]
     },
     "execution_count": 164,
     "metadata": {},
     "output_type": "execute_result"
    }
   ],
   "source": [
    "x = x.float()\n",
    "y = y.float()\n",
    "y.shape"
   ]
  },
  {
   "cell_type": "code",
   "execution_count": 165,
   "metadata": {
    "ExecuteTime": {
     "end_time": "2019-04-02T05:57:44.272914Z",
     "start_time": "2019-04-02T05:57:26.037519Z"
    }
   },
   "outputs": [
    {
     "data": {
      "text/plain": [
       "torch.Size([64, 512, 8, 10])"
      ]
     },
     "execution_count": 165,
     "metadata": {},
     "output_type": "execute_result"
    }
   ],
   "source": [
    "# ???\n",
    "x_features = model.top_model(x)\n",
    "x_features.shape"
   ]
  },
  {
   "cell_type": "code",
   "execution_count": 166,
   "metadata": {
    "ExecuteTime": {
     "end_time": "2019-04-02T05:57:44.341278Z",
     "start_time": "2019-04-02T05:57:44.279756Z"
    }
   },
   "outputs": [
    {
     "data": {
      "text/plain": [
       "torch.Size([64, 512, 1, 1])"
      ]
     },
     "execution_count": 166,
     "metadata": {},
     "output_type": "execute_result"
    }
   ],
   "source": [
    "# ???\n",
    "# AdaptiveAvgPool2d would do a similar job if the input is [64, 512, 10, 20]\n",
    "# that is why this model will fit any input size\n",
    "x_features_ave = nn.AdaptiveAvgPool2d((1,1))(x_features)\n",
    "x_features_ave.shape"
   ]
  },
  {
   "cell_type": "code",
   "execution_count": 167,
   "metadata": {
    "ExecuteTime": {
     "end_time": "2019-04-02T05:57:44.374458Z",
     "start_time": "2019-04-02T05:57:44.343620Z"
    }
   },
   "outputs": [
    {
     "data": {
      "text/plain": [
       "torch.Size([64, 512])"
      ]
     },
     "execution_count": 167,
     "metadata": {},
     "output_type": "execute_result"
    }
   ],
   "source": [
    "# ???\n",
    "x_features_flatten = x_features_ave.view(x_features_ave.shape[0], -1)\n",
    "x_features_flatten.shape"
   ]
  },
  {
   "cell_type": "code",
   "execution_count": 168,
   "metadata": {
    "ExecuteTime": {
     "end_time": "2019-04-02T05:57:59.846011Z",
     "start_time": "2019-04-02T05:57:44.376321Z"
    }
   },
   "outputs": [
    {
     "data": {
      "text/plain": [
       "torch.Size([64, 5])"
      ]
     },
     "execution_count": 168,
     "metadata": {},
     "output_type": "execute_result"
    }
   ],
   "source": [
    "y_hat = model(x)\n",
    "y_hat.shape"
   ]
  },
  {
   "cell_type": "markdown",
   "metadata": {
    "ExecuteTime": {
     "end_time": "2019-04-02T06:05:29.093773Z",
     "start_time": "2019-04-02T06:05:28.887671Z"
    }
   },
   "source": [
    "## loss"
   ]
  },
  {
   "cell_type": "code",
   "execution_count": 182,
   "metadata": {
    "ExecuteTime": {
     "end_time": "2019-04-02T06:08:28.635194Z",
     "start_time": "2019-04-02T06:08:28.423777Z"
    }
   },
   "outputs": [
    {
     "data": {
      "text/plain": [
       "1.6944700479507446"
      ]
     },
     "execution_count": 182,
     "metadata": {},
     "output_type": "execute_result"
    }
   ],
   "source": [
    "F.cross_entropy(y_hat,torch.max(y, 1)[1]).item()"
   ]
  },
  {
   "cell_type": "code",
   "execution_count": 170,
   "metadata": {
    "ExecuteTime": {
     "end_time": "2019-04-02T05:57:59.913972Z",
     "start_time": "2019-04-02T05:57:59.880556Z"
    },
    "scrolled": true
   },
   "outputs": [
    {
     "data": {
      "text/plain": [
       "tensor([[ 8.5222e-02, -1.4562e-01, -9.5977e-02, -4.2511e-01, -4.8455e-01],\n",
       "        [ 3.4302e-01, -4.6472e-01,  2.7271e-01, -7.5242e-01, -9.8703e-02],\n",
       "        [-1.4719e-01, -3.7518e-01, -1.0429e-01, -4.7576e-01,  5.7924e-01],\n",
       "        [ 7.3049e-01, -7.4533e-02, -2.3702e-01, -3.3277e-02,  6.5539e-02],\n",
       "        [-3.8939e-01, -2.8855e-01, -4.9619e-01, -1.1802e-02,  4.2860e-01],\n",
       "        [ 1.5462e-01, -4.8779e-02, -2.2971e-01, -4.2354e-01, -7.8867e-02],\n",
       "        [-5.9075e-01, -5.7986e-01, -2.6741e-01, -3.4560e-01,  4.5336e-01],\n",
       "        [ 2.6676e-01,  2.7627e-01, -2.0437e-01,  1.5533e-01, -5.2942e-01],\n",
       "        [ 1.0172e+00,  2.2730e-01, -6.1298e-01, -2.2923e-01, -1.1478e-01],\n",
       "        [-3.5728e-01,  3.6211e-01,  1.8371e-01,  3.6600e-01, -4.9738e-01],\n",
       "        [ 1.8375e-01,  1.9257e-01, -3.2054e-01, -3.4446e-01,  1.2053e-01],\n",
       "        [ 1.9565e-01,  2.3386e-01,  6.3709e-01, -4.3831e-01,  6.0449e-02],\n",
       "        [-2.6929e-01,  2.9280e-01, -1.2347e-02, -2.8823e-01,  2.7754e-01],\n",
       "        [ 3.9672e-02,  2.3938e-01,  1.6320e-01,  2.2481e-01,  1.1339e-01],\n",
       "        [-2.1094e-02,  1.0197e-01,  4.8580e-01,  2.3374e-01, -8.1520e-01],\n",
       "        [ 2.3994e-01, -2.0374e-01,  1.1105e-01, -3.0305e-01,  7.7752e-01],\n",
       "        [ 2.2926e-01,  7.8845e-01, -6.3186e-02,  3.4016e-02,  1.9672e-01],\n",
       "        [ 1.2248e-01, -2.6462e-01, -8.2554e-02,  7.1666e-02, -7.3170e-01],\n",
       "        [-3.1376e-01, -9.6748e-03,  3.1591e-01,  2.9429e-01, -1.0903e-01],\n",
       "        [ 2.7505e-01,  2.0356e-01,  1.3894e-01,  5.9987e-02,  6.0820e-01],\n",
       "        [-1.8361e-01,  7.4648e-02,  3.0418e-01,  1.6532e-01, -4.0563e-01],\n",
       "        [-3.6817e-01,  2.3068e-01,  5.2016e-02,  4.7836e-01, -2.8813e-01],\n",
       "        [-1.9349e-01, -1.5629e-01, -5.0089e-01,  1.9130e-01, -3.0287e-03],\n",
       "        [ 1.7980e-01,  5.0393e-01, -5.2459e-01, -1.7114e-01, -6.4573e-02],\n",
       "        [ 4.1940e-02, -1.3130e-01, -1.0786e-01, -3.6150e-01,  7.6824e-02],\n",
       "        [-9.3202e-02,  4.1713e-01, -5.2311e-01,  7.2905e-02, -2.6985e-01],\n",
       "        [-1.1410e-03, -1.8554e-02, -2.0684e-01,  2.3127e-01,  2.9639e-01],\n",
       "        [-2.7560e-01, -4.5123e-02,  2.1766e-01,  3.6363e-01,  2.6333e-02],\n",
       "        [ 2.0057e-01,  1.9798e-01,  5.0141e-01,  1.3057e-01, -1.7825e-01],\n",
       "        [ 2.4941e-02, -4.0524e-01, -3.6247e-01, -4.2014e-01,  9.7371e-01],\n",
       "        [-6.2831e-01, -1.0175e+00,  6.8483e-01,  7.8927e-01, -1.2863e-01],\n",
       "        [-2.7713e-01,  3.6386e-01,  2.8922e-01, -8.9485e-02,  1.1089e-01],\n",
       "        [-4.0617e-01,  2.7810e-01,  2.8958e-01,  4.3461e-01, -1.8427e-01],\n",
       "        [-4.0789e-01, -1.9180e-01, -1.6169e-01,  5.0331e-01, -9.5509e-02],\n",
       "        [-2.9353e-01, -3.2215e-01,  9.1837e-01, -3.9422e-01,  2.1900e-01],\n",
       "        [ 2.7618e-01,  6.7470e-01, -2.9876e-01, -2.0779e-01,  5.0082e-02],\n",
       "        [ 1.7988e-02,  3.2398e-01, -1.9593e-03, -1.1666e-01, -3.7037e-02],\n",
       "        [-4.6689e-01, -9.2697e-01,  3.0744e-01, -5.3455e-01,  4.0909e-01],\n",
       "        [-8.8539e-02,  5.4375e-02, -4.6084e-01,  5.3085e-01, -3.3186e-01],\n",
       "        [-9.9594e-02,  4.4047e-02, -1.2973e-01,  4.7914e-01, -8.1546e-01],\n",
       "        [-6.3221e-01,  1.0173e-03, -3.6654e-01, -1.3798e-01,  2.7678e-01],\n",
       "        [-5.2429e-01,  2.6470e-01,  3.6212e-01,  2.2319e-01,  2.8478e-01],\n",
       "        [ 3.3327e-01, -3.4107e-01,  2.4404e-01, -3.0629e-01, -1.3625e-01],\n",
       "        [-4.6941e-01, -5.4653e-01, -1.5802e-01, -1.9179e-01,  1.2244e-01],\n",
       "        [ 5.4360e-01,  2.8475e-01,  1.3732e-02,  3.8359e-01,  3.1874e-01],\n",
       "        [-3.6689e-01, -1.9691e-01, -8.2086e-02,  2.9033e-01, -2.7358e-01],\n",
       "        [ 7.2304e-02,  2.2099e-01, -2.0219e-01, -6.1800e-01,  9.3800e-02],\n",
       "        [-1.6568e-01,  6.6481e-02, -3.7473e-01, -3.6673e-01,  3.7139e-01],\n",
       "        [ 4.3027e-01,  2.0322e-01,  1.9914e-01, -9.6249e-02,  4.3396e-01],\n",
       "        [ 1.0548e-01,  8.2474e-02,  1.6694e-02,  7.8228e-03, -2.9476e-01],\n",
       "        [ 2.4203e-01, -5.2118e-01,  1.6032e-01, -3.8536e-01,  3.9080e-01],\n",
       "        [ 6.2337e-01,  3.0317e-01,  1.8237e-01, -4.9251e-01, -9.5400e-02],\n",
       "        [-2.5700e-02, -2.8735e-01, -9.9398e-02,  5.4603e-01,  1.4898e-01],\n",
       "        [ 5.1241e-01,  8.6348e-01, -1.9081e-01,  1.1483e-01,  2.8872e-02],\n",
       "        [-1.2143e-01, -3.9879e-02,  1.9091e-01, -2.3016e-01,  7.5065e-01],\n",
       "        [-1.2369e-01, -6.7408e-01, -7.4095e-01, -7.5731e-02, -3.3034e-01],\n",
       "        [ 6.7213e-01, -1.8211e-01, -3.5448e-01,  6.7195e-02,  5.5823e-01],\n",
       "        [ 5.1488e-02,  9.1688e-01,  3.9916e-01, -8.0174e-02,  1.0435e-01],\n",
       "        [-3.5792e-01, -2.6562e-02, -2.2107e-01,  6.4108e-02,  1.2584e-02],\n",
       "        [ 3.2266e-01, -1.0777e-01,  1.6061e-01,  1.9642e-01, -8.7665e-03],\n",
       "        [-7.3630e-02, -7.5477e-01,  1.7684e-01, -3.2744e-01, -7.2728e-02],\n",
       "        [-2.7256e-01, -2.3132e-01, -3.0596e-01,  1.4127e-03,  5.4140e-02],\n",
       "        [ 9.3295e-01,  4.2010e-01,  3.6686e-02,  4.6815e-01, -4.0096e-02],\n",
       "        [ 4.0814e-01,  4.0897e-01, -1.8126e-01, -5.4893e-01,  7.1413e-02]],\n",
       "       grad_fn=<AddmmBackward>)"
      ]
     },
     "execution_count": 170,
     "metadata": {},
     "output_type": "execute_result"
    }
   ],
   "source": [
    "y_hat"
   ]
  },
  {
   "cell_type": "markdown",
   "metadata": {},
   "source": [
    "# learning rate finder"
   ]
  },
  {
   "cell_type": "code",
   "execution_count": 171,
   "metadata": {
    "ExecuteTime": {
     "end_time": "2019-04-02T06:01:53.332913Z",
     "start_time": "2019-04-02T06:01:53.162991Z"
    }
   },
   "outputs": [],
   "source": [
    "def get_optimizer(model, lr = 0.01, wd = 0.0):\n",
    "    parameters = filter(lambda p: p.requires_grad, model.parameters())\n",
    "    optim = torch.optim.Adam(parameters, lr=lr, weight_decay=wd)\n",
    "    return optim"
   ]
  },
  {
   "cell_type": "code",
   "execution_count": 186,
   "metadata": {
    "ExecuteTime": {
     "end_time": "2019-04-02T06:09:10.765821Z",
     "start_time": "2019-04-02T06:09:10.716693Z"
    }
   },
   "outputs": [],
   "source": [
    "def save_model(m, p): torch.save(m.state_dict(), p)\n",
    "    \n",
    "def load_model(m, p): m.load_state_dict(torch.load(p))\n",
    "\n",
    "def LR_range_finder(model, train_dl, lr_low=1e-5, lr_high=1, epochs=4):\n",
    "    losses = []\n",
    "    p = PATH/\"mode_tmp.pth\"\n",
    "    save_model(model, str(p))\n",
    "    iterations = epochs * len(train_dl)\n",
    "    delta = (lr_high - lr_low)/iterations\n",
    "    lrs = [lr_low + i*delta for i in range(iterations)]\n",
    "    model.train()\n",
    "    ind = 0\n",
    "    for i in range(epochs):\n",
    "        for x,y in train_dl:\n",
    "            optim = get_optimizer(model, lr=lrs[ind])\n",
    "            x = x.float()\n",
    "            y = y.float()\n",
    "            out = model(x)\n",
    "            #loss = F.binary_cross_entropy_with_logits(out, y)\n",
    "            loss = F.cross_entropy(out,torch.max(y, 1)[1])\n",
    "            optim.zero_grad()\n",
    "            loss.backward()\n",
    "            optim.step()\n",
    "            losses.append(loss.item())\n",
    "            ind +=1\n",
    "            \n",
    "    load_model(model, str(p))\n",
    "    return lrs, losses"
   ]
  },
  {
   "cell_type": "code",
   "execution_count": 187,
   "metadata": {
    "ExecuteTime": {
     "end_time": "2019-04-02T06:10:48.237282Z",
     "start_time": "2019-04-02T06:09:11.073276Z"
    }
   },
   "outputs": [],
   "source": [
    "model = Net()\n",
    "lrs, losses = LR_range_finder(model, train_loader, lr_low=1e-6, lr_high=0.1)"
   ]
  },
  {
   "cell_type": "code",
   "execution_count": 188,
   "metadata": {
    "ExecuteTime": {
     "end_time": "2019-04-02T06:11:08.098556Z",
     "start_time": "2019-04-02T06:11:07.693658Z"
    }
   },
   "outputs": [
    {
     "data": {
      "image/png": "[encoded data removed]",
      "text/plain": [
       "<Figure size 432x288 with 1 Axes>"
      ]
     },
     "metadata": {
      "needs_background": "light"
     },
     "output_type": "display_data"
    }
   ],
   "source": [
    "plt.plot(lrs[:20], losses[:20])\n",
    "plt.show()"
   ]
  },
  {
   "cell_type": "code",
   "execution_count": null,
   "metadata": {},
   "outputs": [],
   "source": []
  }
 ],
 "metadata": {
  "kernelspec": {
   "display_name": "Python 3",
   "language": "python",
   "name": "python3"
  },
  "language_info": {
   "codemirror_mode": {
    "name": "ipython",
    "version": 3
   },
   "file_extension": ".py",
   "mimetype": "text/x-python",
   "name": "python",
   "nbconvert_exporter": "python",
   "pygments_lexer": "ipython3",
   "version": "3.6.7"
  }
 },
 "nbformat": 4,
 "nbformat_minor": 2
}
