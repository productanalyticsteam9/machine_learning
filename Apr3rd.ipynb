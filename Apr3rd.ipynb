{
 "cells": [
  {
   "cell_type": "code",
   "execution_count": 1,
   "metadata": {
    "ExecuteTime": {
     "end_time": "2019-04-05T23:43:56.587998Z",
     "start_time": "2019-04-05T23:43:53.407565Z"
    }
   },
   "outputs": [],
   "source": [
    "from fastai.vision import *\n",
    "from bs4 import BeautifulSoup\n",
    "import requests\n",
    "import re\n",
    "from urllib.request import urlopen\n",
    "import urllib.request\n",
    "import os\n",
    "import json\n",
    "import pandas as pd\n",
    "import csv\n",
    "import math"
   ]
  },
  {
   "cell_type": "code",
   "execution_count": 2,
   "metadata": {
    "ExecuteTime": {
     "end_time": "2019-04-05T23:43:57.419508Z",
     "start_time": "2019-04-05T23:43:57.169978Z"
    }
   },
   "outputs": [],
   "source": [
    "%reload_ext autoreload\n",
    "%autoreload 2\n",
    "%matplotlib inline\n",
    "\n",
    "import pandas as pd\n",
    "import numpy as np\n",
    "import torch\n",
    "from pathlib import Path\n",
    "from torch.utils.data import Dataset, DataLoader\n",
    "import torch.optim as optim\n",
    "import torch.nn as nn\n",
    "import torch.nn.functional as F\n",
    "from torchvision import models\n",
    "import random\n",
    "import cv2\n",
    "import matplotlib.pyplot as plt"
   ]
  },
  {
   "cell_type": "markdown",
   "metadata": {},
   "source": [
    "# 1. get the url "
   ]
  },
  {
   "cell_type": "code",
   "execution_count": 600,
   "metadata": {
    "ExecuteTime": {
     "end_time": "2019-03-31T05:24:21.971921Z",
     "start_time": "2019-03-31T05:24:21.806208Z"
    }
   },
   "outputs": [],
   "source": [
    "# create a folder called \"Pictures\" at the current directory"
   ]
  },
  {
   "cell_type": "code",
   "execution_count": 6,
   "metadata": {
    "ExecuteTime": {
     "end_time": "2019-04-03T18:22:31.333287Z",
     "start_time": "2019-04-03T18:22:23.588315Z"
    }
   },
   "outputs": [
    {
     "name": "stdout",
     "output_type": "stream",
     "text": [
      "query image:hairstyle\n",
      "there are total 100 images\n",
      "done\n"
     ]
    }
   ],
   "source": [
    "def get_soup(url,header):\n",
    "    return BeautifulSoup(urlopen(urllib.request.Request(url,headers=header)),'html.parser')\n",
    "\n",
    "query = input(\"query image:\")# you can change the query for the image  here\n",
    "image_type=\"ActiOn\"\n",
    "query= query.split()\n",
    "query='+'.join(query)\n",
    "url=\"https://www.google.co.in/search?q=\"+query+\"&source=lnms&tbm=isch\"\n",
    "\n",
    "DIR=\"Pictures\"\n",
    "\n",
    "header={'User-Agent':\"Mozilla/5.0 (Windows NT 6.1; WOW64) AppleWebKit/537.36 (KHTML, like Gecko) Chrome/43.0.2357.134 Safari/537.36\"\n",
    "}\n",
    "soup = get_soup(url,header)\n",
    "\n",
    "ActualImages=[]# contains the link for Large original images, type of  image\n",
    "for a in soup.find_all(\"div\",{\"class\":\"rg_meta\"}):\n",
    "    link , Type =json.loads(a.text)[\"ou\"]  ,json.loads(a.text)[\"ity\"]\n",
    "    ActualImages.append(link)\n",
    "\n",
    "print(\"there are total\", len(ActualImages),\"images\")\n",
    "\n",
    "\n",
    "file_name = query.replace(\"+\",\"_\")\n",
    "if not os.path.exists(DIR):\n",
    "            os.mkdir(DIR)\n",
    "\n",
    "# with open(DIR+'/'+file_name+'.csv', 'w') as writeFile:\n",
    "#     writer = csv.writer(writeFile, dialect='excel')\n",
    "#     writer.writerow(ActualImages)\n",
    "\n",
    "df = pd.DataFrame({'data':ActualImages})\n",
    "df.to_csv(DIR+'/'+file_name+'.csv', header=False)\n",
    "\n",
    "print(\"done\")"
   ]
  },
  {
   "cell_type": "markdown",
   "metadata": {},
   "source": [
    "# 2. create folders and download images"
   ]
  },
  {
   "cell_type": "code",
   "execution_count": 3,
   "metadata": {
    "ExecuteTime": {
     "end_time": "2019-04-05T23:44:00.731157Z",
     "start_time": "2019-04-05T23:44:00.690183Z"
    }
   },
   "outputs": [],
   "source": [
    "PATH = Path(\"\")"
   ]
  },
  {
   "cell_type": "code",
   "execution_count": 8,
   "metadata": {
    "ExecuteTime": {
     "end_time": "2019-04-03T18:22:45.172527Z",
     "start_time": "2019-04-03T18:22:45.141188Z"
    }
   },
   "outputs": [],
   "source": [
    "# create folders\n",
    "def create_folder(obj):\n",
    "    folder = obj\n",
    "    file = obj+'.csv'\n",
    "    dest = PATH/folder\n",
    "    dest.mkdir(parents=True, exist_ok=True)"
   ]
  },
  {
   "cell_type": "code",
   "execution_count": 9,
   "metadata": {
    "ExecuteTime": {
     "end_time": "2019-04-03T18:22:50.617486Z",
     "start_time": "2019-04-03T18:22:50.578743Z"
    }
   },
   "outputs": [],
   "source": [
    "# three categories\n",
    "classes = ['car','dress','hairstyle']\n",
    "folders = ['car','dress','hairstyle']\n",
    "files = ['car.csv','dress.csv','hairstyle.csv']"
   ]
  },
  {
   "cell_type": "code",
   "execution_count": 10,
   "metadata": {
    "ExecuteTime": {
     "end_time": "2019-04-03T18:22:53.398148Z",
     "start_time": "2019-04-03T18:22:53.360052Z"
    }
   },
   "outputs": [],
   "source": [
    "for item in classes:\n",
    "    create_folder(item)"
   ]
  },
  {
   "cell_type": "markdown",
   "metadata": {},
   "source": [
    "# 3. Move the csv to the corresponding folder\n",
    "### in terminal"
   ]
  },
  {
   "cell_type": "markdown",
   "metadata": {},
   "source": [
    "#### (for each categrory)  \n",
    "#### (because i need each csv doesn't have the first column which is integers from 1 to n)\n",
    "(MSDS694) appledeMacBook-Pro-4:AorB Reagan$ cd Pictures/  \n",
    "\n",
    "(MSDS694) appledeMacBook-Pro-4:Pictures Reagan$ chmod +x ../del_first_col.sh   \n",
    "\n",
    "(MSDS694) appledeMacBook-Pro-4:Pictures Reagan$ ../del_first_col.sh"
   ]
  },
  {
   "cell_type": "markdown",
   "metadata": {
    "ExecuteTime": {
     "end_time": "2019-03-30T23:50:45.557167Z",
     "start_time": "2019-03-30T23:50:45.261116Z"
    }
   },
   "source": [
    "# 4.Download pictures"
   ]
  },
  {
   "cell_type": "code",
   "execution_count": 11,
   "metadata": {
    "ExecuteTime": {
     "end_time": "2019-04-03T18:25:51.344845Z",
     "start_time": "2019-04-03T18:24:00.157290Z"
    },
    "collapsed": true
   },
   "outputs": [
    {
     "name": "stdout",
     "output_type": "stream",
     "text": [
      "Error \"https://media.wired.com/photos/59bafdf204afdc5248726f5c/master/w_2400 No connection adapters were found for '\"https://media.wired.com/photos/59bafdf204afdc5248726f5c/master/w_2400'\n",
      "Error \"https://www.popsci.com/sites/popsci.com/files/styles/1000_1x_/public/images/2018/03/senna.jpg?itok=eYNPMGjA&fc=50 No connection adapters were found for '\"https://www.popsci.com/sites/popsci.com/files/styles/1000_1x_/public/images/2018/03/senna.jpg?itok=eYNPMGjA&fc=50'\n",
      "Error \"https://img.etimg.com/thumb/msid-61740239 No connection adapters were found for '\"https://img.etimg.com/thumb/msid-61740239'\n",
      "Error \"https://www.popsci.com/sites/popsci.com/files/styles/1000_1x_/public/images/2018/08/01-1953-bmw-isetta.jpg?itok=xy0USI9H&fc=50 No connection adapters were found for '\"https://www.popsci.com/sites/popsci.com/files/styles/1000_1x_/public/images/2018/08/01-1953-bmw-isetta.jpg?itok=xy0USI9H&fc=50'\n",
      "Error \"https://m.media-amazon.com/images/M/MV5BMzMwYWZkZjctZTU5Ny00MDNiLTlkMmYtNzkyODMwMGUxYzA2XkEyXkFqcGdeQXVyNzU1NzE3NTg@._V1_CR0 No connection adapters were found for '\"https://m.media-amazon.com/images/M/MV5BMzMwYWZkZjctZTU5Ny00MDNiLTlkMmYtNzkyODMwMGUxYzA2XkEyXkFqcGdeQXVyNzU1NzE3NTg@._V1_CR0'\n",
      "Error \"https://www.gannett-cdn.com/presto/2019/01/22/PDTN/ecf05ee6-a11a-4711-b647-e2539275dda5-TrentonPD.jpg?crop=959 No connection adapters were found for '\"https://www.gannett-cdn.com/presto/2019/01/22/PDTN/ecf05ee6-a11a-4711-b647-e2539275dda5-TrentonPD.jpg?crop=959'\n",
      "Error \"https://media.wired.com/photos/59dd5a06038dcc0ef87cc185/master/w_2400 No connection adapters were found for '\"https://media.wired.com/photos/59dd5a06038dcc0ef87cc185/master/w_2400'\n",
      "Error https://www.carmax.com/cars/images/type-icons/sedans.svg HTTPSConnectionPool(host='www.carmax.com', port=443): Read timed out. (read timeout=4)\n",
      "Error \"https://i.kinja-img.com/gawker-media/image/upload/s--5rrmTq4i--/c_scale No connection adapters were found for '\"https://i.kinja-img.com/gawker-media/image/upload/s--5rrmTq4i--/c_scale'\n",
      "Error \"https://images.express.com/is/image/expressfashion/0094_07852622_0058?cache=on&wid=361&fmt=jpeg&qlt=75 No connection adapters were found for '\"https://images.express.com/is/image/expressfashion/0094_07852622_0058?cache=on&wid=361&fmt=jpeg&qlt=75'\n",
      "Error https://www.childrensplace.com/wcsstore/GlobalSAS/images/tcp/products/500/2368086_2153-6.jpg HTTPSConnectionPool(host='www.childrensplace.com', port=443): Read timed out. (read timeout=4)\n",
      "Error \"https://images.express.com/is/image/expressfashion/0094_07922476_2259?cache=on&wid=361&fmt=jpeg&qlt=75 No connection adapters were found for '\"https://images.express.com/is/image/expressfashion/0094_07922476_2259?cache=on&wid=361&fmt=jpeg&qlt=75'\n",
      "Error \"https://images.express.com/is/image/expressfashion/0094_07852112_0023?cache=on&wid=361&fmt=jpeg&qlt=75 No connection adapters were found for '\"https://images.express.com/is/image/expressfashion/0094_07852112_0023?cache=on&wid=361&fmt=jpeg&qlt=75'\n",
      "Error \"https://assets.myntassets.com/dpr_2 No connection adapters were found for '\"https://assets.myntassets.com/dpr_2'\n",
      "Error https://www.childrensplace.com/wcsstore/GlobalSAS/images/tcp/products/500/2138367_1707-6.jpg HTTPSConnectionPool(host='www.childrensplace.com', port=443): Read timed out. (read timeout=4)\n",
      "Error \"https://assets.adidas.com/images/w_600 No connection adapters were found for '\"https://assets.adidas.com/images/w_600'\n",
      "Error \"https://images.express.com/is/image/expressfashion/0094_07872065_0004?cache=on&wid=361&fmt=jpeg&qlt=75 No connection adapters were found for '\"https://images.express.com/is/image/expressfashion/0094_07872065_0004?cache=on&wid=361&fmt=jpeg&qlt=75'\n",
      "Error https://stylesatlife.com/wp-content/uploads/2018/05/The-Disconnected-Quiff-1.jpg HTTPSConnectionPool(host='stylesatlife.com', port=443): Read timed out. (read timeout=4)\n",
      "Error \"https://cdn.rec-engine.com/pg_1 No connection adapters were found for '\"https://cdn.rec-engine.com/pg_1'\n",
      "Error \"https://hips.hearstapps.com/hmg-prod.s3.amazonaws.com/images/layered-hair-3-1518449557.jpg?crop=1xw:1xh;center No connection adapters were found for '\"https://hips.hearstapps.com/hmg-prod.s3.amazonaws.com/images/layered-hair-3-1518449557.jpg?crop=1xw:1xh;center'\n",
      "Error \"https://hips.hearstapps.com/ell.h-cdn.co/assets/17/18/gettyimages-675657090_master-copy.jpg?crop=1xw:0.9997845756139595xh;center No connection adapters were found for '\"https://hips.hearstapps.com/ell.h-cdn.co/assets/17/18/gettyimages-675657090_master-copy.jpg?crop=1xw:0.9997845756139595xh;center'\n",
      "Error http://hairstyles.today/wp-content/uploads/2019/01/New-Hairstyles-For-Men-2019-New-Hairstyle-Compilation-Best-Barber-Compilation-New-Hairstyle.jpg HTTPConnectionPool(host='hairstyles.today', port=80): Max retries exceeded with url: /wp-content/uploads/2019/01/New-Hairstyles-For-Men-2019-New-Hairstyle-Compilation-Best-Barber-Compilation-New-Hairstyle.jpg (Caused by ProtocolError('Connection aborted.', RemoteDisconnected('Remote end closed connection without response',)))\n",
      "Error \"https://hips.hearstapps.com/hmg-prod.s3.amazonaws.com/images/701/2015/04/final-part-main-1485972001.jpg?crop=1xw:0.789xh;center No connection adapters were found for '\"https://hips.hearstapps.com/hmg-prod.s3.amazonaws.com/images/701/2015/04/final-part-main-1485972001.jpg?crop=1xw:0.789xh;center'\n",
      "Error \"https://hips.hearstapps.com/hmg-prod.s3.amazonaws.com/images/gettyimages-1054072972.jpg?crop=1xw:1xh;center No connection adapters were found for '\"https://hips.hearstapps.com/hmg-prod.s3.amazonaws.com/images/gettyimages-1054072972.jpg?crop=1xw:1xh;center'\n"
     ]
    }
   ],
   "source": [
    "for i in range(len(classes)):\n",
    "    path = Path('')\n",
    "    folder = folders[i]\n",
    "    file = files[i]\n",
    "    dest = path/folder\n",
    "    download_images(path/folder/file, dest, max_pics=100, max_workers=0)"
   ]
  },
  {
   "cell_type": "code",
   "execution_count": 313,
   "metadata": {
    "ExecuteTime": {
     "end_time": "2019-03-31T02:41:22.127752Z",
     "start_time": "2019-03-31T02:41:21.837152Z"
    }
   },
   "outputs": [],
   "source": [
    "# folder = 'car'\n",
    "# file = 'car.csv'\n",
    "# path = Path('')\n",
    "# dest = path/folder\n",
    "# dest.mkdir(parents=True, exist_ok=True)"
   ]
  },
  {
   "cell_type": "code",
   "execution_count": 12,
   "metadata": {
    "ExecuteTime": {
     "end_time": "2019-04-03T18:26:09.679629Z",
     "start_time": "2019-04-03T18:26:09.533469Z"
    }
   },
   "outputs": [
    {
     "data": {
      "text/plain": [
       "[PosixPath('.DS_Store'),\n",
       " PosixPath('.ipynb_checkpoints'),\n",
       " PosixPath('all.sh'),\n",
       " PosixPath('Apr1st.ipynb'),\n",
       " PosixPath('Apr2nd.ipynb'),\n",
       " PosixPath('Apr3rd.ipynb'),\n",
       " PosixPath('car'),\n",
       " PosixPath('del_first_col.sh'),\n",
       " PosixPath('dress'),\n",
       " PosixPath('hairstyle'),\n",
       " PosixPath('Mar30th.ipynb'),\n",
       " PosixPath('mode_tmp.pth'),\n",
       " PosixPath('Pictures'),\n",
       " PosixPath('search_terms.py')]"
      ]
     },
     "execution_count": 12,
     "metadata": {},
     "output_type": "execute_result"
    }
   ],
   "source": [
    "path.ls()"
   ]
  },
  {
   "cell_type": "markdown",
   "metadata": {
    "ExecuteTime": {
     "end_time": "2019-03-31T05:11:35.822802Z",
     "start_time": "2019-03-31T05:11:35.523885Z"
    }
   },
   "source": [
    "### 4.2 rename image filenames"
   ]
  },
  {
   "cell_type": "code",
   "execution_count": 13,
   "metadata": {
    "ExecuteTime": {
     "end_time": "2019-04-03T18:26:11.937955Z",
     "start_time": "2019-04-03T18:26:11.903939Z"
    }
   },
   "outputs": [],
   "source": [
    "def rename_image(obj):\n",
    "    for filename in os.listdir(PATH/obj): \n",
    "        path = PATH/obj\n",
    "        dst = os.path.join(path,obj + filename)\n",
    "        src = os.path.join(path,filename)\n",
    "\n",
    "        # rename() function will \n",
    "        # rename all the files \n",
    "        os.rename(src, dst) "
   ]
  },
  {
   "cell_type": "code",
   "execution_count": 14,
   "metadata": {
    "ExecuteTime": {
     "end_time": "2019-04-03T18:26:12.396998Z",
     "start_time": "2019-04-03T18:26:12.325007Z"
    }
   },
   "outputs": [],
   "source": [
    "for item in classes:\n",
    "    rename_image(item)"
   ]
  },
  {
   "cell_type": "markdown",
   "metadata": {},
   "source": [
    "# 5. read image "
   ]
  },
  {
   "cell_type": "code",
   "execution_count": 4,
   "metadata": {
    "ExecuteTime": {
     "end_time": "2019-04-05T23:44:16.051699Z",
     "start_time": "2019-04-05T23:44:16.011292Z"
    }
   },
   "outputs": [],
   "source": [
    "def read_image(path):\n",
    "    im = cv2.imread(str(path))\n",
    "    return cv2.cvtColor(im, cv2.COLOR_BGR2RGB)"
   ]
  },
  {
   "cell_type": "code",
   "execution_count": 5,
   "metadata": {
    "ExecuteTime": {
     "end_time": "2019-04-05T23:44:16.966182Z",
     "start_time": "2019-04-05T23:44:16.604306Z"
    },
    "scrolled": true
   },
   "outputs": [
    {
     "data": {
      "text/plain": [
       "(628, 1200, 3)"
      ]
     },
     "execution_count": 5,
     "metadata": {},
     "output_type": "execute_result"
    },
    {
     "data": {
      "image/png": "[encoded data removed]",
      "text/plain": [
       "<Figure size 432x288 with 1 Axes>"
      ]
     },
     "metadata": {
      "needs_background": "light"
     },
     "output_type": "display_data"
    }
   ],
   "source": [
    "# try read one image \n",
    "path = PATH/\"car/car00000020.jpg\"\n",
    "im = read_image(path)\n",
    "plt.imshow(im)\n",
    "im.shape"
   ]
  },
  {
   "cell_type": "code",
   "execution_count": 6,
   "metadata": {
    "ExecuteTime": {
     "end_time": "2019-04-05T23:44:18.390232Z",
     "start_time": "2019-04-05T23:44:18.350515Z"
    },
    "scrolled": true
   },
   "outputs": [
    {
     "data": {
      "text/plain": [
       "(628, 1200, 3)"
      ]
     },
     "execution_count": 6,
     "metadata": {},
     "output_type": "execute_result"
    }
   ],
   "source": [
    "im = cv2.imread(str(path))\n",
    "im.shape"
   ]
  },
  {
   "cell_type": "markdown",
   "metadata": {},
   "source": [
    "# 6.Resize images"
   ]
  },
  {
   "cell_type": "markdown",
   "metadata": {
    "ExecuteTime": {
     "end_time": "2019-04-03T19:30:38.763609Z",
     "start_time": "2019-04-03T19:30:38.504758Z"
    }
   },
   "source": [
    "### 6.1 functions"
   ]
  },
  {
   "cell_type": "code",
   "execution_count": 7,
   "metadata": {
    "ExecuteTime": {
     "end_time": "2019-04-05T23:44:21.626570Z",
     "start_time": "2019-04-05T23:44:21.591530Z"
    }
   },
   "outputs": [],
   "source": [
    "import math\n",
    "def random_crop(x, target_r, target_c):\n",
    "    \"\"\" Returns a random crop\"\"\"\n",
    "    r,c,*_ = x.shape\n",
    "    rand_r = random.uniform(0, 1)\n",
    "    rand_c = random.uniform(0, 1)\n",
    "    start_r = np.floor(rand_r*(r - target_r)).astype(int)\n",
    "    start_c = np.floor(rand_c*(c - target_c)).astype(int)\n",
    "    return crop(x, start_r, start_c, target_r, target_c)\n",
    "\n",
    "def rotate_cv(im, deg, mode=cv2.BORDER_REFLECT, interpolation=cv2.INTER_AREA):\n",
    "    \"\"\" Rotates an image by deg degrees\"\"\"\n",
    "    r,c,*_ = im.shape\n",
    "    M = cv2.getRotationMatrix2D((c/2,r/2),deg,1)\n",
    "    return cv2.warpAffine(im,M,(c,r), borderMode=mode, flags=cv2.WARP_FILL_OUTLIERS+interpolation)"
   ]
  },
  {
   "cell_type": "code",
   "execution_count": 8,
   "metadata": {
    "ExecuteTime": {
     "end_time": "2019-04-05T23:44:23.574945Z",
     "start_time": "2019-04-05T23:44:23.531790Z"
    }
   },
   "outputs": [],
   "source": [
    "# resize images\n",
    "def crop(im, r, c, target_r, target_c): return im[r:r+target_r, c:c+target_c]\n",
    "\n",
    "def center_crop(im, min_sz=None):\n",
    "    \"\"\" Returns a center crop of an image\"\"\"\n",
    "    r,c,*_ = im.shape\n",
    "    if min_sz is None: min_sz = min(r,c)\n",
    "    start_r = math.ceil((r-min_sz)/2)\n",
    "    start_c = math.ceil((c-min_sz)/2)\n",
    "    return crop(im, start_r, start_c, min_sz, min_sz)\n",
    "\n",
    "def resize_crop_image(path, sz=(303, 227)):\n",
    "    im = read_image(path)\n",
    "    im = center_crop(im)\n",
    "    return cv2.resize(im, sz)\n",
    "\n",
    "def resize_all_images(resize_path, org_path):\n",
    "#     files = [x for x in list(org_path.iterdir()) if x.suffix == \".jpg\"]\n",
    "    files = [x for x in list(org_path.iterdir()) if x.suffix != \".csv\"]\n",
    "    for f in files:\n",
    "        try:\n",
    "            f_name = f.parts[-1]    \n",
    "            new_path = resize_path/f_name\n",
    "\n",
    "            im = resize_crop_image(f)\n",
    "            cv2.imwrite(str(new_path), cv2.cvtColor(im, cv2.COLOR_RGB2BGR))\n",
    "        except:\n",
    "            pass"
   ]
  },
  {
   "cell_type": "markdown",
   "metadata": {},
   "source": [
    "### 6.2 create folders for resized images "
   ]
  },
  {
   "cell_type": "code",
   "execution_count": 22,
   "metadata": {
    "ExecuteTime": {
     "end_time": "2019-04-03T18:26:46.880558Z",
     "start_time": "2019-04-03T18:26:46.848837Z"
    }
   },
   "outputs": [],
   "source": [
    "def create_resized_folder(obj):\n",
    "    folder = \"resized_\"+ obj\n",
    "    dest = PATH/folder\n",
    "    dest.mkdir(parents=True, exist_ok=True)"
   ]
  },
  {
   "cell_type": "code",
   "execution_count": 23,
   "metadata": {
    "ExecuteTime": {
     "end_time": "2019-04-03T18:26:51.310095Z",
     "start_time": "2019-04-03T18:26:51.278290Z"
    }
   },
   "outputs": [],
   "source": [
    "# empty folders\n",
    "for item in classes:\n",
    "    create_resized_folder(item)"
   ]
  },
  {
   "cell_type": "code",
   "execution_count": 24,
   "metadata": {
    "ExecuteTime": {
     "end_time": "2019-04-03T18:26:58.717138Z",
     "start_time": "2019-04-03T18:26:51.785020Z"
    }
   },
   "outputs": [],
   "source": [
    "# resize images from original folder to new folder\n",
    "resize_all_images(PATH/\"resized_car\", PATH/\"car\")\n",
    "resize_all_images(PATH/\"resized_dress\", PATH/\"dress\")\n",
    "resize_all_images(PATH/\"resized_hairstyle\", PATH/\"hairstyle\")\n"
   ]
  },
  {
   "cell_type": "markdown",
   "metadata": {},
   "source": [
    "### 6.3 create a folder to put in all the images (in order)"
   ]
  },
  {
   "cell_type": "markdown",
   "metadata": {},
   "source": [
    "#### in terminal\n",
    "appledeMBP-4:Pictures Reagan$ chmod +x all.sh  \n",
    "\n",
    "appledeMBP-4:Pictures Reagan$ ../all.sh"
   ]
  },
  {
   "cell_type": "markdown",
   "metadata": {},
   "source": [
    "# 7.split training set and validation set"
   ]
  },
  {
   "cell_type": "code",
   "execution_count": null,
   "metadata": {},
   "outputs": [],
   "source": [
    "# create datasets together "
   ]
  },
  {
   "cell_type": "code",
   "execution_count": 25,
   "metadata": {
    "ExecuteTime": {
     "end_time": "2019-04-03T18:29:14.075934Z",
     "start_time": "2019-04-03T18:29:13.931896Z"
    }
   },
   "outputs": [],
   "source": [
    "filenames = os.listdir(PATH/\"all\")\n",
    "filenames.sort()  # make sure that the filenames have a fixed order before shuffling\n",
    "random.seed(230)\n",
    "random.shuffle(filenames)\n",
    "\n",
    "split_1 = int(0.8 * len(filenames))\n",
    "split_2 = int(0.95 * len(filenames))\n",
    "\n",
    "train_filenames = filenames[:split_1]\n",
    "val_filenames = filenames[split_1:split_2]\n",
    "test_filenames = filenames[split_2:]"
   ]
  },
  {
   "cell_type": "code",
   "execution_count": 26,
   "metadata": {
    "ExecuteTime": {
     "end_time": "2019-04-03T18:29:47.962774Z",
     "start_time": "2019-04-03T18:29:47.651092Z"
    }
   },
   "outputs": [],
   "source": [
    "import os\n",
    "import shutil\n",
    "import glob\n",
    "\n",
    "source=PATH/'all'\n",
    "dest1=PATH/'train'\n",
    "dest2=PATH/'val'\n",
    "dest3=PATH/'test'\n",
    "\n",
    "for file in train_filenames:\n",
    "    fu = os.path.join(source, file)\n",
    "    shutil.copy(fu, dest1)\n",
    "    \n",
    "for file in val_filenames:\n",
    "    fu = os.path.join(source, file)\n",
    "    shutil.copy(fu, dest2)\n",
    "    \n",
    "for file in test_filenames:\n",
    "    fu = os.path.join(source, file)\n",
    "    shutil.copy(fu, dest3)"
   ]
  },
  {
   "cell_type": "code",
   "execution_count": 12,
   "metadata": {
    "ExecuteTime": {
     "end_time": "2019-04-05T23:45:04.552404Z",
     "start_time": "2019-04-05T23:45:04.514385Z"
    }
   },
   "outputs": [],
   "source": [
    "train_label_text = []\n",
    "val_label_text = []\n",
    "test_label_text = []\n",
    "\n",
    "for item in os.listdir(PATH/\"train\"):\n",
    "    train_label_text.append(item.split('0')[0])\n",
    "for item in os.listdir(PATH/\"val\"):\n",
    "    val_label_text.append(item.split('0')[0])\n",
    "for item in os.listdir(PATH/\"test\"):\n",
    "    test_label_text.append(item.split('0')[0])"
   ]
  },
  {
   "cell_type": "code",
   "execution_count": 13,
   "metadata": {
    "ExecuteTime": {
     "end_time": "2019-04-05T23:45:06.598113Z",
     "start_time": "2019-04-05T23:45:06.566804Z"
    }
   },
   "outputs": [],
   "source": [
    "dictionary = {'car':0, 'dress':1, 'hairstyle':2}"
   ]
  },
  {
   "cell_type": "code",
   "execution_count": 14,
   "metadata": {
    "ExecuteTime": {
     "end_time": "2019-04-05T23:45:06.910449Z",
     "start_time": "2019-04-05T23:45:06.877824Z"
    }
   },
   "outputs": [],
   "source": [
    "train_label = [dictionary[item] for item in train_label_text]\n",
    "val_label = [dictionary[item] for item in val_label_text]\n",
    "test_label = [dictionary[item] for item in test_label_text]"
   ]
  },
  {
   "cell_type": "code",
   "execution_count": 15,
   "metadata": {
    "ExecuteTime": {
     "end_time": "2019-04-05T23:45:08.324499Z",
     "start_time": "2019-04-05T23:45:08.290890Z"
    }
   },
   "outputs": [
    {
     "name": "stdout",
     "output_type": "stream",
     "text": [
      "255\n",
      "269\n",
      "255\n"
     ]
    }
   ],
   "source": [
    "# do not run the above multiple times. \n",
    "print(len(val_label)+len(train_label))\n",
    "print(len(os.listdir(PATH/\"all\")))\n",
    "print(len(os.listdir(PATH/\"train\"))+len(os.listdir(PATH/\"val\")))"
   ]
  },
  {
   "cell_type": "markdown",
   "metadata": {},
   "source": [
    "# 8.modeling"
   ]
  },
  {
   "cell_type": "code",
   "execution_count": 16,
   "metadata": {
    "ExecuteTime": {
     "end_time": "2019-04-05T23:45:10.122135Z",
     "start_time": "2019-04-05T23:45:10.083696Z"
    }
   },
   "outputs": [],
   "source": [
    "def normalize(im):\n",
    "    \"\"\"Normalizes images with Imagenet stats.\"\"\"\n",
    "    imagenet_stats = np.array([[0.485, 0.456, 0.406], [0.229, 0.224, 0.225]])\n",
    "    return (im - imagenet_stats[0])/imagenet_stats[1]\n",
    "def apply_transforms(x, sz=(303, 227), zoom=1.05):\n",
    "    \"\"\" Applies a random crop, rotation\"\"\"\n",
    "    sz1 = int(zoom*sz[0])\n",
    "    sz2 = int(zoom*sz[1])\n",
    "    x = cv2.resize(x, (sz1, sz2))\n",
    "    x = rotate_cv(x, np.random.uniform(-10,10))\n",
    "    x = random_crop(x, sz[1], sz[0])\n",
    "    if np.random.rand() >= .5:\n",
    "                x = np.fliplr(x).copy()\n",
    "    return x"
   ]
  },
  {
   "cell_type": "code",
   "execution_count": 17,
   "metadata": {
    "ExecuteTime": {
     "end_time": "2019-04-05T23:45:11.134326Z",
     "start_time": "2019-04-05T23:45:11.098408Z"
    }
   },
   "outputs": [],
   "source": [
    "class imageDataset(Dataset):\n",
    "    def __init__(self, files_path, labels, transform=False):\n",
    "        self.num_files = len(labels)\n",
    "        self.files_path = files_path\n",
    "        self.labels = labels\n",
    "        self.transform = transform\n",
    "        \n",
    "    def __len__(self):\n",
    "        return self.num_files\n",
    "    \n",
    "    def __getitem__(self, index):\n",
    "#         row = self.labels.iloc[index,:]\n",
    "#         y = row[\"invasive\"]\n",
    "        y = self.labels[index]\n",
    "        file_name =os.listdir(self.files_path)[index]\n",
    "        path = self.files_path/str(file_name)\n",
    "        x = read_image(path)\n",
    "        if self.transform:\n",
    "            x = apply_transforms(x)\n",
    "        #else:\n",
    "        #    x = cv2.resize(x, (303, 227))\n",
    "        x = normalize(x)\n",
    "        x = np.rollaxis(x, 2)\n",
    "        return x, y"
   ]
  },
  {
   "cell_type": "markdown",
   "metadata": {},
   "source": [
    "### 8.2 use imageDataset() "
   ]
  },
  {
   "cell_type": "code",
   "execution_count": 18,
   "metadata": {
    "ExecuteTime": {
     "end_time": "2019-04-05T23:45:12.420077Z",
     "start_time": "2019-04-05T23:45:12.389124Z"
    }
   },
   "outputs": [],
   "source": [
    "train_ds = imageDataset(PATH/\"train\", labels=train_label)\n",
    "val_ds = imageDataset(PATH/\"val\", labels=val_label)\n",
    "test_ds = imageDataset(PATH/\"test\", labels=test_label)"
   ]
  },
  {
   "cell_type": "code",
   "execution_count": 19,
   "metadata": {
    "ExecuteTime": {
     "end_time": "2019-04-05T23:45:13.877665Z",
     "start_time": "2019-04-05T23:45:13.846873Z"
    }
   },
   "outputs": [],
   "source": [
    "# train_loader, valid_loader\n",
    "train_loader = DataLoader(train_ds, batch_size=64, shuffle=True, num_workers=2)\n",
    "val_loader = DataLoader(val_ds, batch_size=64, num_workers=2)\n",
    "test_loader = DataLoader(test_ds, num_workers=2)"
   ]
  },
  {
   "cell_type": "code",
   "execution_count": 20,
   "metadata": {
    "ExecuteTime": {
     "end_time": "2019-04-05T23:45:14.417086Z",
     "start_time": "2019-04-05T23:45:14.382192Z"
    }
   },
   "outputs": [],
   "source": [
    "# train_dl, val_dl\n",
    "batch_size = 64\n",
    "train_dl = DataLoader(train_ds, batch_size=batch_size, shuffle=True)\n",
    "val_dl = DataLoader(val_ds, batch_size=batch_size)\n",
    "test_dl = DataLoader(test_ds)"
   ]
  },
  {
   "cell_type": "markdown",
   "metadata": {},
   "source": [
    "### 8.3 the model"
   ]
  },
  {
   "cell_type": "code",
   "execution_count": 21,
   "metadata": {
    "ExecuteTime": {
     "end_time": "2019-04-05T23:45:17.178297Z",
     "start_time": "2019-04-05T23:45:16.425177Z"
    }
   },
   "outputs": [],
   "source": [
    "resnet = models.resnet34(pretrained=True)"
   ]
  },
  {
   "cell_type": "code",
   "execution_count": 22,
   "metadata": {
    "ExecuteTime": {
     "end_time": "2019-04-05T23:45:17.214535Z",
     "start_time": "2019-04-05T23:45:17.180825Z"
    }
   },
   "outputs": [
    {
     "name": "stdout",
     "output_type": "stream",
     "text": [
      "10\n"
     ]
    },
    {
     "data": {
      "text/plain": [
       "[AdaptiveAvgPool2d(output_size=(1, 1)),\n",
       " Linear(in_features=512, out_features=1000, bias=True)]"
      ]
     },
     "execution_count": 22,
     "metadata": {},
     "output_type": "execute_result"
    }
   ],
   "source": [
    "layers = list(resnet.children())\n",
    "print(len(layers))\n",
    "layers[-2:]"
   ]
  },
  {
   "cell_type": "code",
   "execution_count": 23,
   "metadata": {
    "ExecuteTime": {
     "end_time": "2019-04-05T23:45:18.284909Z",
     "start_time": "2019-04-05T23:45:18.251214Z"
    }
   },
   "outputs": [],
   "source": [
    "class Net(nn.Module):\n",
    "    def __init__(self):\n",
    "        super(Net, self).__init__()\n",
    "        resnet = models.resnet34(pretrained=True)\n",
    "        # freezing parameters\n",
    "        for param in resnet.parameters():\n",
    "            param.requires_grad = False\n",
    "        # convolutional layers of resnet34\n",
    "        layers = list(resnet.children())[:8]\n",
    "        self.top_model = nn.Sequential(*layers)\n",
    "        self.bn1 = nn.BatchNorm1d(512)\n",
    "        self.bn2 = nn.BatchNorm1d(512)\n",
    "        self.fc1 = nn.Linear(512, 512)\n",
    "        self.fc2 = nn.Linear(512, 5)\n",
    "    \n",
    "    def forward(self, x):\n",
    "        x = F.relu(self.top_model(x))\n",
    "        x = nn.AdaptiveAvgPool2d((1,1))(x)\n",
    "        x = x.view(x.shape[0], -1) # flattening \n",
    "        #x = nn.Dropout(0.2)(x)\n",
    "        x = self.bn1(x)\n",
    "        x = F.relu(self.fc1(x))\n",
    "        #x = nn.Dropout(0.2)(x)\n",
    "        x = self.bn2(x)\n",
    "        x = self.fc2(x)\n",
    "        return x"
   ]
  },
  {
   "cell_type": "code",
   "execution_count": 24,
   "metadata": {
    "ExecuteTime": {
     "end_time": "2019-04-05T23:45:21.030717Z",
     "start_time": "2019-04-05T23:45:20.471431Z"
    }
   },
   "outputs": [],
   "source": [
    "model = Net()"
   ]
  },
  {
   "cell_type": "code",
   "execution_count": 25,
   "metadata": {
    "ExecuteTime": {
     "end_time": "2019-04-05T23:45:22.545736Z",
     "start_time": "2019-04-05T23:45:22.043743Z"
    }
   },
   "outputs": [],
   "source": [
    "x, y = next(iter(train_dl))"
   ]
  },
  {
   "cell_type": "code",
   "execution_count": 26,
   "metadata": {
    "ExecuteTime": {
     "end_time": "2019-04-05T23:45:23.847276Z",
     "start_time": "2019-04-05T23:45:23.739542Z"
    }
   },
   "outputs": [
    {
     "data": {
      "text/plain": [
       "torch.Size([64])"
      ]
     },
     "execution_count": 26,
     "metadata": {},
     "output_type": "execute_result"
    }
   ],
   "source": [
    "x = x.float()\n",
    "y = y.float()\n",
    "y.shape"
   ]
  },
  {
   "cell_type": "code",
   "execution_count": 52,
   "metadata": {
    "ExecuteTime": {
     "end_time": "2019-04-03T18:33:29.492983Z",
     "start_time": "2019-04-03T18:33:13.410092Z"
    }
   },
   "outputs": [
    {
     "data": {
      "text/plain": [
       "torch.Size([64, 512, 8, 10])"
      ]
     },
     "execution_count": 52,
     "metadata": {},
     "output_type": "execute_result"
    }
   ],
   "source": [
    "# ???\n",
    "x_features = model.top_model(x)\n",
    "x_features.shape"
   ]
  },
  {
   "cell_type": "code",
   "execution_count": 53,
   "metadata": {
    "ExecuteTime": {
     "end_time": "2019-04-03T18:33:29.572994Z",
     "start_time": "2019-04-03T18:33:29.497588Z"
    }
   },
   "outputs": [
    {
     "data": {
      "text/plain": [
       "torch.Size([64, 512, 1, 1])"
      ]
     },
     "execution_count": 53,
     "metadata": {},
     "output_type": "execute_result"
    }
   ],
   "source": [
    "# ???\n",
    "# AdaptiveAvgPool2d would do a similar job if the input is [64, 512, 10, 20]\n",
    "# that is why this model will fit any input size\n",
    "x_features_ave = nn.AdaptiveAvgPool2d((1,1))(x_features)\n",
    "x_features_ave.shape"
   ]
  },
  {
   "cell_type": "code",
   "execution_count": 54,
   "metadata": {
    "ExecuteTime": {
     "end_time": "2019-04-03T18:33:29.618204Z",
     "start_time": "2019-04-03T18:33:29.575741Z"
    }
   },
   "outputs": [
    {
     "data": {
      "text/plain": [
       "torch.Size([64, 512])"
      ]
     },
     "execution_count": 54,
     "metadata": {},
     "output_type": "execute_result"
    }
   ],
   "source": [
    "# ???\n",
    "x_features_flatten = x_features_ave.view(x_features_ave.shape[0], -1)\n",
    "x_features_flatten.shape"
   ]
  },
  {
   "cell_type": "code",
   "execution_count": 27,
   "metadata": {
    "ExecuteTime": {
     "end_time": "2019-04-05T23:45:43.347141Z",
     "start_time": "2019-04-05T23:45:27.532579Z"
    }
   },
   "outputs": [
    {
     "data": {
      "text/plain": [
       "torch.Size([64, 5])"
      ]
     },
     "execution_count": 27,
     "metadata": {},
     "output_type": "execute_result"
    }
   ],
   "source": [
    "y_hat = model(x)\n",
    "y_hat.shape"
   ]
  },
  {
   "cell_type": "markdown",
   "metadata": {
    "ExecuteTime": {
     "end_time": "2019-04-02T06:05:29.093773Z",
     "start_time": "2019-04-02T06:05:28.887671Z"
    }
   },
   "source": [
    "## loss"
   ]
  },
  {
   "cell_type": "code",
   "execution_count": 28,
   "metadata": {
    "ExecuteTime": {
     "end_time": "2019-04-05T23:45:45.815787Z",
     "start_time": "2019-04-05T23:45:45.768700Z"
    }
   },
   "outputs": [
    {
     "data": {
      "text/plain": [
       "1.61969792842865"
      ]
     },
     "execution_count": 28,
     "metadata": {},
     "output_type": "execute_result"
    }
   ],
   "source": [
    "F.cross_entropy(y_hat,y.long()).item()"
   ]
  },
  {
   "cell_type": "markdown",
   "metadata": {},
   "source": [
    "### 8.4 learning rate finder"
   ]
  },
  {
   "cell_type": "code",
   "execution_count": 29,
   "metadata": {
    "ExecuteTime": {
     "end_time": "2019-04-05T23:45:50.292823Z",
     "start_time": "2019-04-05T23:45:50.261552Z"
    }
   },
   "outputs": [],
   "source": [
    "def get_optimizer(model, lr = 0.01, wd = 0.0):\n",
    "    parameters = filter(lambda p: p.requires_grad, model.parameters())\n",
    "    optim = torch.optim.Adam(parameters, lr=lr, weight_decay=wd)\n",
    "    return optim"
   ]
  },
  {
   "cell_type": "code",
   "execution_count": 62,
   "metadata": {
    "ExecuteTime": {
     "end_time": "2019-04-03T18:34:43.188995Z",
     "start_time": "2019-04-03T18:34:43.103880Z"
    }
   },
   "outputs": [],
   "source": [
    "def save_model(m, p): \n",
    "    torch.save(m.state_dict(), p)\n",
    "\n",
    "def load_model(m, p): \n",
    "    m.load_state_dict(torch.load(p))\n",
    "\n",
    "def LR_range_finder(model, train_dl, lr_low=1e-5, lr_high=1, epochs=4):\n",
    "    losses = []\n",
    "    p = PATH/\"mode_tmp.pth\"\n",
    "    save_model(model, str(p))\n",
    "    iterations = epochs * len(train_dl)\n",
    "    delta = (lr_high - lr_low)/iterations\n",
    "    lrs = [lr_low + i*delta for i in range(iterations)]\n",
    "    model.train()\n",
    "    ind = 0\n",
    "    for i in range(epochs):\n",
    "        for x,y in train_dl:\n",
    "            optim = get_optimizer(model, lr=lrs[ind])\n",
    "            x = x.float()\n",
    "            y = y.float()\n",
    "            out = model(x)\n",
    "            #loss = F.binary_cross_entropy_with_logits(out, y)\n",
    "            #loss = F.cross_entropy(out,torch.max(y, 1)[1])\n",
    "            loss = F.cross_entropy(out,y.long())\n",
    "            optim.zero_grad()\n",
    "            loss.backward()\n",
    "            optim.step()\n",
    "            losses.append(loss.item())\n",
    "            ind +=1\n",
    "            \n",
    "    load_model(model, str(p))\n",
    "    return lrs, losses"
   ]
  },
  {
   "cell_type": "code",
   "execution_count": 63,
   "metadata": {
    "ExecuteTime": {
     "end_time": "2019-04-03T18:38:22.345617Z",
     "start_time": "2019-04-03T18:34:43.940947Z"
    }
   },
   "outputs": [],
   "source": [
    "model = Net()\n",
    "lrs, losses = LR_range_finder(model, train_loader, lr_low=1e-6, lr_high=0.1)"
   ]
  },
  {
   "cell_type": "code",
   "execution_count": 64,
   "metadata": {
    "ExecuteTime": {
     "end_time": "2019-04-03T18:38:22.781861Z",
     "start_time": "2019-04-03T18:38:22.351091Z"
    }
   },
   "outputs": [
    {
     "data": {
      "image/png": "[encoded data removed]",
      "text/plain": [
       "<Figure size 432x288 with 1 Axes>"
      ]
     },
     "metadata": {
      "needs_background": "light"
     },
     "output_type": "display_data"
    }
   ],
   "source": [
    "plt.plot(lrs, losses)\n",
    "plt.show()"
   ]
  },
  {
   "cell_type": "code",
   "execution_count": 129,
   "metadata": {
    "ExecuteTime": {
     "end_time": "2019-04-03T04:15:30.196669Z",
     "start_time": "2019-04-03T04:15:30.165409Z"
    }
   },
   "outputs": [],
   "source": [
    "#maybe we should choose lr = 0.015"
   ]
  },
  {
   "cell_type": "markdown",
   "metadata": {},
   "source": [
    "# 9.Feed Forward NN"
   ]
  },
  {
   "cell_type": "code",
   "execution_count": 30,
   "metadata": {
    "ExecuteTime": {
     "end_time": "2019-04-05T23:46:05.304643Z",
     "start_time": "2019-04-05T23:46:05.204781Z"
    }
   },
   "outputs": [],
   "source": [
    "def train_model(train_loader, test_loader, num_epochs, model, optimizer):\n",
    "    model.train()\n",
    "    sum_loss = 0.0\n",
    "    total = 0\n",
    "    for epoch in range(num_epochs):\n",
    "        for i, (images, labels) in enumerate(train_loader):  \n",
    "            batch = images.shape[0] # size of the batch\n",
    "            # Convert torch tensor to Variable, change shape of the input\n",
    "            #images = images.view(-1, 28*28) #.cuda()\n",
    "        \n",
    "            # Forward + Backward + Optimize\n",
    "            optimizer.zero_grad()  # zero the gradient buffer\n",
    "            outputs = model(images.float())\n",
    "            loss = F.cross_entropy(outputs, labels.float().long())\n",
    "            loss.backward()\n",
    "            optimizer.step()\n",
    "        \n",
    "            total += batch\n",
    "            sum_loss += batch * loss.item()\n",
    "            if (i+1) % 100 == 0:\n",
    "                print ('Epoch [%d/%d], Loss: %.4f' \n",
    "                   %(epoch+1, num_epochs, sum_loss/total))\n",
    "                \n",
    "        train_loss = sum_loss/total\n",
    "        print('Epoch [%d/%d], Loss: %.4f' %(epoch+1, num_epochs, train_loss))\n",
    "        val_acc, val_loss = model_accuracy_loss(model, test_loader)\n",
    "        print('Epoch [%d/%d], Valid Accuracy: %.4f, Valid Loss: %.4f' %(epoch+1, num_epochs, val_acc, val_loss))\n",
    "    return val_acc, val_loss, train_loss"
   ]
  },
  {
   "cell_type": "code",
   "execution_count": 31,
   "metadata": {
    "ExecuteTime": {
     "end_time": "2019-04-05T23:46:05.682672Z",
     "start_time": "2019-04-05T23:46:05.648815Z"
    }
   },
   "outputs": [],
   "source": [
    "def model_accuracy_loss(model, test_loader):\n",
    "    model.eval()\n",
    "    correct = 0\n",
    "    sum_loss = 0.0\n",
    "    total = 0\n",
    "    for images, labels in test_loader:\n",
    "        outputs = model(images.float())\n",
    "        _, pred = torch.max(outputs.data, 1)\n",
    "        loss = F.cross_entropy(outputs, labels.float().long())\n",
    "        sum_loss += labels.size(0)*loss.item()\n",
    "        total += labels.size(0)\n",
    "        correct += pred.eq(labels.data).sum().item()\n",
    "    return 100 * correct / total, sum_loss/ total"
   ]
  },
  {
   "cell_type": "code",
   "execution_count": null,
   "metadata": {
    "ExecuteTime": {
     "end_time": "2019-04-03T04:33:56.045111Z",
     "start_time": "2019-04-03T04:33:55.548761Z"
    }
   },
   "outputs": [],
   "source": []
  },
  {
   "cell_type": "code",
   "execution_count": 32,
   "metadata": {
    "ExecuteTime": {
     "end_time": "2019-04-05T23:46:08.978486Z",
     "start_time": "2019-04-05T23:46:08.413288Z"
    }
   },
   "outputs": [],
   "source": [
    "net = Net()  # net is the model\n",
    "learning_rate = 0.015\n",
    "optimizer = optim.Adam(net.parameters(), lr=learning_rate)\n",
    "# model_accuracy_loss(net, val_loader)"
   ]
  },
  {
   "cell_type": "code",
   "execution_count": 33,
   "metadata": {
    "ExecuteTime": {
     "end_time": "2019-04-05T23:48:06.295126Z",
     "start_time": "2019-04-05T23:46:10.425875Z"
    }
   },
   "outputs": [
    {
     "name": "stdout",
     "output_type": "stream",
     "text": [
      "Epoch [1/2], Loss: 0.5737\n",
      "Epoch [1/2], Valid Accuracy: 62.5000, Valid Loss: 1.7707\n",
      "Epoch [2/2], Loss: 0.6708\n",
      "Epoch [2/2], Valid Accuracy: 95.0000, Valid Loss: 0.0909\n"
     ]
    },
    {
     "data": {
      "text/plain": [
       "(95.0, 0.09093298017978668, 0.6708076010393196)"
      ]
     },
     "execution_count": 33,
     "metadata": {},
     "output_type": "execute_result"
    }
   ],
   "source": [
    "train_model(train_loader, val_loader, num_epochs=2, model=net, optimizer=optimizer)"
   ]
  },
  {
   "cell_type": "markdown",
   "metadata": {},
   "source": [
    "# 10.test on test_loader "
   ]
  },
  {
   "cell_type": "code",
   "execution_count": 34,
   "metadata": {
    "ExecuteTime": {
     "end_time": "2019-04-05T23:48:55.566979Z",
     "start_time": "2019-04-05T23:48:52.700830Z"
    }
   },
   "outputs": [
    {
     "data": {
      "text/plain": [
       "(100.0, 0.008837785039629256)"
      ]
     },
     "execution_count": 34,
     "metadata": {},
     "output_type": "execute_result"
    }
   ],
   "source": [
    "model_accuracy_loss(net, test_loader)  # our model is net"
   ]
  },
  {
   "cell_type": "code",
   "execution_count": 35,
   "metadata": {
    "ExecuteTime": {
     "end_time": "2019-04-05T23:49:02.853549Z",
     "start_time": "2019-04-05T23:49:00.046921Z"
    }
   },
   "outputs": [
    {
     "name": "stdout",
     "output_type": "stream",
     "text": [
      "predict:tensor([0])\n",
      "true_label:tensor([0])\n",
      "----------------\n",
      "predict:tensor([0])\n",
      "true_label:tensor([0])\n",
      "----------------\n",
      "predict:tensor([0])\n",
      "true_label:tensor([0])\n",
      "----------------\n",
      "predict:tensor([0])\n",
      "true_label:tensor([0])\n",
      "----------------\n",
      "predict:tensor([0])\n",
      "true_label:tensor([0])\n",
      "----------------\n",
      "predict:tensor([1])\n",
      "true_label:tensor([1])\n",
      "----------------\n",
      "predict:tensor([1])\n",
      "true_label:tensor([1])\n",
      "----------------\n",
      "predict:tensor([1])\n",
      "true_label:tensor([1])\n",
      "----------------\n",
      "predict:tensor([2])\n",
      "true_label:tensor([2])\n",
      "----------------\n",
      "predict:tensor([2])\n",
      "true_label:tensor([2])\n",
      "----------------\n",
      "predict:tensor([2])\n",
      "true_label:tensor([2])\n",
      "----------------\n",
      "predict:tensor([2])\n",
      "true_label:tensor([2])\n",
      "----------------\n",
      "predict:tensor([2])\n",
      "true_label:tensor([2])\n",
      "----------------\n",
      "predict:tensor([2])\n",
      "true_label:tensor([2])\n",
      "----------------\n"
     ]
    }
   ],
   "source": [
    "for images, labels in test_loader:\n",
    "    outputs = net(images.float())\n",
    "    _, pred = torch.max(outputs.data, 1)\n",
    "    print(\"predict:{}\".format(pred))\n",
    "    print(\"true_label:{}\".format(labels))\n",
    "    print(\"----------------\")"
   ]
  },
  {
   "cell_type": "code",
   "execution_count": 37,
   "metadata": {
    "ExecuteTime": {
     "end_time": "2019-04-06T00:25:05.652472Z",
     "start_time": "2019-04-06T00:25:05.593642Z"
    }
   },
   "outputs": [],
   "source": [
    "def save_model(m, p): torch.save(m.state_dict(), p)"
   ]
  },
  {
   "cell_type": "code",
   "execution_count": 38,
   "metadata": {
    "ExecuteTime": {
     "end_time": "2019-04-06T00:25:06.734168Z",
     "start_time": "2019-04-06T00:25:06.182774Z"
    }
   },
   "outputs": [],
   "source": [
    "p = PATH/\"model.pth\"\n",
    "save_model(net, p)"
   ]
  },
  {
   "cell_type": "code",
   "execution_count": 39,
   "metadata": {
    "ExecuteTime": {
     "end_time": "2019-04-06T00:25:28.727522Z",
     "start_time": "2019-04-06T00:25:28.526442Z"
    }
   },
   "outputs": [
    {
     "name": "stdout",
     "output_type": "stream",
     "text": [
      "Apr1st.ipynb      \u001b[34mall\u001b[m\u001b[m               \u001b[34mhairstyle\u001b[m\u001b[m         \u001b[34mresized_hairstyle\u001b[m\u001b[m\r\n",
      "Apr2nd.ipynb      \u001b[31mall.sh\u001b[m\u001b[m            mode_tmp.pth      search_terms.py\r\n",
      "Apr3rd.ipynb      \u001b[34mcar\u001b[m\u001b[m               model.pth         \u001b[34mtest\u001b[m\u001b[m\r\n",
      "Mar30th.ipynb     \u001b[31mdel_first_col.sh\u001b[m\u001b[m  \u001b[34mresized_car\u001b[m\u001b[m       \u001b[34mtrain\u001b[m\u001b[m\r\n",
      "\u001b[34mPictures\u001b[m\u001b[m          \u001b[34mdress\u001b[m\u001b[m             \u001b[34mresized_dress\u001b[m\u001b[m     \u001b[34mval\u001b[m\u001b[m\r\n"
     ]
    }
   ],
   "source": [
    "!ls"
   ]
  },
  {
   "cell_type": "code",
   "execution_count": 40,
   "metadata": {
    "ExecuteTime": {
     "end_time": "2019-04-06T00:25:50.415047Z",
     "start_time": "2019-04-06T00:25:50.223379Z"
    }
   },
   "outputs": [
    {
     "name": "stdout",
     "output_type": "stream",
     "text": [
      "total 338880\r\n",
      "-rw-r--r--@   1 Reagan  staff   1.3K Mar 29 21:00 search_terms.py\r\n",
      "-rw-r--r--@   1 Reagan  staff   181K Mar 30 23:13 Mar30th.ipynb\r\n",
      "-rw-r--r--@   1 Reagan  staff   201K Apr  2 19:24 Apr1st.ipynb\r\n",
      "-rwxr-xr-x@   1 Reagan  staff   566B Apr  2 19:27 \u001b[31mdel_first_col.sh\u001b[m\u001b[m\r\n",
      "-rw-r--r--@   1 Reagan  staff   220K Apr  2 22:40 Apr2nd.ipynb\r\n",
      "drwxr-xr-x@   3 Reagan  staff   102B Apr  3 11:23 \u001b[34mPictures\u001b[m\u001b[m\r\n",
      "drwxr-xr-x@  96 Reagan  staff   3.2K Apr  3 11:26 \u001b[34mhairstyle\u001b[m\u001b[m\r\n",
      "drwxr-xr-x@  95 Reagan  staff   3.2K Apr  3 11:26 \u001b[34mdress\u001b[m\u001b[m\r\n",
      "drwxr-xr-x@  94 Reagan  staff   3.1K Apr  3 11:26 \u001b[34mcar\u001b[m\u001b[m\r\n",
      "drwxr-xr-x@  89 Reagan  staff   3.0K Apr  3 11:26 \u001b[34mresized_car\u001b[m\u001b[m\r\n",
      "drwxr-xr-x@  94 Reagan  staff   3.1K Apr  3 11:26 \u001b[34mresized_dress\u001b[m\u001b[m\r\n",
      "drwxr-xr-x@  92 Reagan  staff   3.1K Apr  3 11:26 \u001b[34mresized_hairstyle\u001b[m\u001b[m\r\n",
      "drwxr-xr-x@ 271 Reagan  staff   9.0K Apr  3 11:28 \u001b[34mall\u001b[m\u001b[m\r\n",
      "-rwxr-xr-x@   1 Reagan  staff   199B Apr  3 11:29 \u001b[31mall.sh\u001b[m\u001b[m\r\n",
      "drwxr-xr-x@  42 Reagan  staff   1.4K Apr  3 11:29 \u001b[34mval\u001b[m\u001b[m\r\n",
      "drwxr-xr-x@ 217 Reagan  staff   7.2K Apr  3 11:29 \u001b[34mtrain\u001b[m\u001b[m\r\n",
      "drwxr-xr-x@  16 Reagan  staff   544B Apr  3 11:29 \u001b[34mtest\u001b[m\u001b[m\r\n",
      "-rw-r--r--@   1 Reagan  staff    82M Apr  3 11:34 mode_tmp.pth\r\n",
      "-rw-r--r--@   1 Reagan  staff    82M Apr  5 17:25 model.pth\r\n",
      "-rw-r--r--@   1 Reagan  staff   205K Apr  5 17:25 Apr3rd.ipynb\r\n"
     ]
    }
   ],
   "source": [
    "!ls -lhrt"
   ]
  },
  {
   "cell_type": "code",
   "execution_count": null,
   "metadata": {},
   "outputs": [],
   "source": []
  }
 ],
 "metadata": {
  "kernelspec": {
   "display_name": "Python 3",
   "language": "python",
   "name": "python3"
  },
  "language_info": {
   "codemirror_mode": {
    "name": "ipython",
    "version": 3
   },
   "file_extension": ".py",
   "mimetype": "text/x-python",
   "name": "python",
   "nbconvert_exporter": "python",
   "pygments_lexer": "ipython3",
   "version": "3.6.7"
  }
 },
 "nbformat": 4,
 "nbformat_minor": 2
}
